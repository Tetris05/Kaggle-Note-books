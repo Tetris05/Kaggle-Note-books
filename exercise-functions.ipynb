{
 "cells": [
  {
   "cell_type": "markdown",
   "id": "d3bcf561",
   "metadata": {
    "papermill": {
     "duration": 0.007483,
     "end_time": "2023-02-25T07:28:35.231708",
     "exception": false,
     "start_time": "2023-02-25T07:28:35.224225",
     "status": "completed"
    },
    "tags": []
   },
   "source": [
    "**This notebook is an exercise in the [Intro to Programming](https://www.kaggle.com/learn/intro-to-programming) course.  You can reference the tutorial at [this link](https://www.kaggle.com/alexisbcook/functions).**\n",
    "\n",
    "---\n"
   ]
  },
  {
   "cell_type": "markdown",
   "id": "0c5b967c",
   "metadata": {
    "papermill": {
     "duration": 0.005653,
     "end_time": "2023-02-25T07:28:35.243576",
     "exception": false,
     "start_time": "2023-02-25T07:28:35.237923",
     "status": "completed"
    },
    "tags": []
   },
   "source": [
    "In the tutorial, you learned about functions. In this exercise, you'll write some of your own!\n",
    "\n",
    "# Set up the notebook\n",
    "\n",
    "Run the next code cell without changes to set up the notebook."
   ]
  },
  {
   "cell_type": "code",
   "execution_count": 1,
   "id": "30679bbf",
   "metadata": {
    "execution": {
     "iopub.execute_input": "2023-02-25T07:28:35.257984Z",
     "iopub.status.busy": "2023-02-25T07:28:35.257132Z",
     "iopub.status.idle": "2023-02-25T07:28:35.308994Z",
     "shell.execute_reply": "2023-02-25T07:28:35.307619Z"
    },
    "papermill": {
     "duration": 0.062338,
     "end_time": "2023-02-25T07:28:35.311931",
     "exception": false,
     "start_time": "2023-02-25T07:28:35.249593",
     "status": "completed"
    },
    "tags": []
   },
   "outputs": [
    {
     "name": "stdout",
     "output_type": "stream",
     "text": [
      "Setup complete.\n"
     ]
    }
   ],
   "source": [
    "# Set up the exercise\n",
    "import math\n",
    "from learntools.core import binder\n",
    "binder.bind(globals())\n",
    "from learntools.intro_to_programming.ex2 import *\n",
    "print('Setup complete.')"
   ]
  },
  {
   "cell_type": "markdown",
   "id": "82df74c8",
   "metadata": {
    "papermill": {
     "duration": 0.005725,
     "end_time": "2023-02-25T07:28:35.323904",
     "exception": false,
     "start_time": "2023-02-25T07:28:35.318179",
     "status": "completed"
    },
    "tags": []
   },
   "source": [
    "# Question 1\n",
    "\n",
    "In the [House Prices - Advanced Regression Techniques competition](https://www.kaggle.com/c/house-prices-advanced-regression-techniques/overview), you need to use information like the number of bedrooms and bathrooms to predict the price of a house.  Inspired by this competition, you'll write your own function to do this.\n",
    "\n",
    "In the next code cell, create a function `get_expected_cost()` that has two arguments:\n",
    "- `beds` - number of bedrooms \n",
    "- `baths` - number of bathrooms\n",
    "\n",
    "It should return the expected cost of a house with that number of bedrooms and bathrooms.  Assume that:\n",
    "- the expected cost for a house with 0 bedrooms and 0 bathrooms is `80000`.  \n",
    "- each bedroom adds `30000` to the expected cost\n",
    "- each bathroom adds `10000` to the expected cost.\n",
    "\n",
    "For instance, \n",
    "- a house with 1 bedroom and 1 bathroom has an expected cost of `120000`, and \n",
    "- a house with 2 bedrooms and 1 bathroom has an expected cost of `150000`."
   ]
  },
  {
   "cell_type": "code",
   "execution_count": 2,
   "id": "34406159",
   "metadata": {
    "execution": {
     "iopub.execute_input": "2023-02-25T07:28:35.338240Z",
     "iopub.status.busy": "2023-02-25T07:28:35.337519Z",
     "iopub.status.idle": "2023-02-25T07:28:35.349629Z",
     "shell.execute_reply": "2023-02-25T07:28:35.348131Z"
    },
    "papermill": {
     "duration": 0.022124,
     "end_time": "2023-02-25T07:28:35.351958",
     "exception": false,
     "start_time": "2023-02-25T07:28:35.329834",
     "status": "completed"
    },
    "tags": []
   },
   "outputs": [
    {
     "data": {
      "application/javascript": [
       "parent.postMessage({\"jupyterEvent\": \"custom.exercise_interaction\", \"data\": {\"outcomeType\": 1, \"valueTowardsCompletion\": 0.2, \"interactionType\": 1, \"questionType\": 2, \"questionId\": \"1_GetExpectedCost\", \"learnToolsVersion\": \"0.3.4\", \"failureMessage\": \"\", \"exceptionClass\": \"\", \"trace\": \"\"}}, \"*\")"
      ],
      "text/plain": [
       "<IPython.core.display.Javascript object>"
      ]
     },
     "metadata": {},
     "output_type": "display_data"
    },
    {
     "data": {
      "text/markdown": [
       "<span style=\"color:#33cc33\">Correct</span>"
      ],
      "text/plain": [
       "Correct"
      ]
     },
     "metadata": {},
     "output_type": "display_data"
    }
   ],
   "source": [
    "# TODO: Complete the function\n",
    "def get_expected_cost(beds, baths):\n",
    "    expected_cost = 80000\n",
    "    beds = beds*30000\n",
    "    baths = baths*10000\n",
    "    value = expected_cost+beds+baths\n",
    "    return value\n",
    "get_expected_cost(2,1);\n",
    "# Check your answer \n",
    "q1.check()"
   ]
  },
  {
   "cell_type": "code",
   "execution_count": 3,
   "id": "6cc06112",
   "metadata": {
    "execution": {
     "iopub.execute_input": "2023-02-25T07:28:35.366951Z",
     "iopub.status.busy": "2023-02-25T07:28:35.366222Z",
     "iopub.status.idle": "2023-02-25T07:28:35.370377Z",
     "shell.execute_reply": "2023-02-25T07:28:35.369459Z"
    },
    "papermill": {
     "duration": 0.014369,
     "end_time": "2023-02-25T07:28:35.372724",
     "exception": false,
     "start_time": "2023-02-25T07:28:35.358355",
     "status": "completed"
    },
    "tags": []
   },
   "outputs": [],
   "source": [
    "# Uncomment to see a hint\n",
    "#q1.hint()\n",
    "\n",
    "# Uncomment to view the solution\n",
    "#q1.solution()"
   ]
  },
  {
   "cell_type": "markdown",
   "id": "32c288a3",
   "metadata": {
    "papermill": {
     "duration": 0.005986,
     "end_time": "2023-02-25T07:28:35.385180",
     "exception": false,
     "start_time": "2023-02-25T07:28:35.379194",
     "status": "completed"
    },
    "tags": []
   },
   "source": [
    "# Question 2\n",
    "\n",
    "You are thinking about buying a home and want to get an idea of how much you will spend, based on the number of bedrooms and bathrooms.  You are trying to decide between four different options:\n",
    "- Option 1: house with two bedrooms and three bathrooms\n",
    "- Option 2: house with three bedrooms and two bathrooms\n",
    "- Option 3: house with three bedrooms and three bathrooms\n",
    "- Option 4: house with three bedrooms and four bathrooms\n",
    "\n",
    "Use the `get_expected_cost()` function you defined in question 1 to set `option_1`, `option_2`, `option_3`, and `option_4` to the expected cost of each option."
   ]
  },
  {
   "cell_type": "code",
   "execution_count": 4,
   "id": "b23f34cb",
   "metadata": {
    "execution": {
     "iopub.execute_input": "2023-02-25T07:28:35.400062Z",
     "iopub.status.busy": "2023-02-25T07:28:35.399285Z",
     "iopub.status.idle": "2023-02-25T07:28:35.412338Z",
     "shell.execute_reply": "2023-02-25T07:28:35.410524Z"
    },
    "papermill": {
     "duration": 0.023326,
     "end_time": "2023-02-25T07:28:35.414762",
     "exception": false,
     "start_time": "2023-02-25T07:28:35.391436",
     "status": "completed"
    },
    "tags": []
   },
   "outputs": [
    {
     "name": "stdout",
     "output_type": "stream",
     "text": [
      "170000\n",
      "190000\n",
      "200000\n",
      "210000\n"
     ]
    },
    {
     "data": {
      "application/javascript": [
       "parent.postMessage({\"jupyterEvent\": \"custom.exercise_interaction\", \"data\": {\"outcomeType\": 1, \"valueTowardsCompletion\": 0.2, \"interactionType\": 1, \"questionType\": 1, \"questionId\": \"2_RunGetExpectedCost\", \"learnToolsVersion\": \"0.3.4\", \"failureMessage\": \"\", \"exceptionClass\": \"\", \"trace\": \"\"}}, \"*\")"
      ],
      "text/plain": [
       "<IPython.core.display.Javascript object>"
      ]
     },
     "metadata": {},
     "output_type": "display_data"
    },
    {
     "data": {
      "text/markdown": [
       "<span style=\"color:#33cc33\">Correct</span>"
      ],
      "text/plain": [
       "Correct"
      ]
     },
     "metadata": {},
     "output_type": "display_data"
    }
   ],
   "source": [
    "# TODO: Use the get_expected_cost function to fill in each value\n",
    "option_one = get_expected_cost(2,3)\n",
    "option_two = get_expected_cost(3,2)\n",
    "option_three = get_expected_cost(3,3)\n",
    "option_four = get_expected_cost(3,4)\n",
    "\n",
    "print(option_one)\n",
    "print(option_two)\n",
    "print(option_three)\n",
    "print(option_four)\n",
    "\n",
    "# Check your answer\n",
    "q2.check()"
   ]
  },
  {
   "cell_type": "code",
   "execution_count": 5,
   "id": "32d82d24",
   "metadata": {
    "execution": {
     "iopub.execute_input": "2023-02-25T07:28:35.430231Z",
     "iopub.status.busy": "2023-02-25T07:28:35.429766Z",
     "iopub.status.idle": "2023-02-25T07:28:35.434944Z",
     "shell.execute_reply": "2023-02-25T07:28:35.433735Z"
    },
    "papermill": {
     "duration": 0.01584,
     "end_time": "2023-02-25T07:28:35.437318",
     "exception": false,
     "start_time": "2023-02-25T07:28:35.421478",
     "status": "completed"
    },
    "tags": []
   },
   "outputs": [],
   "source": [
    "# Uncomment to see a hint\n",
    "#q2.hint()\n",
    "\n",
    "# Uncomment to view the solution\n",
    "#q2.solution()"
   ]
  },
  {
   "cell_type": "markdown",
   "id": "5f4a968a",
   "metadata": {
    "papermill": {
     "duration": 0.006388,
     "end_time": "2023-02-25T07:28:35.450580",
     "exception": false,
     "start_time": "2023-02-25T07:28:35.444192",
     "status": "completed"
    },
    "tags": []
   },
   "source": [
    "# Question 3\n",
    "\n",
    "You're a home decorator, and you'd like to use Python to streamline some of your work.  Specifically, you're creating a tool that you intend to use to calculate the cost of painting a room.\n",
    "\n",
    "As a first step, define a function `get_cost()` that takes as input:\n",
    "- `sqft_walls` = total square feet of walls to be painted\n",
    "- `sqft_ceiling` = square feet of ceiling to be painted\n",
    "- `sqft_per_gallon` = number of square feet that you can cover with one gallon of paint\n",
    "- `cost_per_gallon` = cost (in dollars) of one gallon of paint\n",
    "\n",
    "It should return the cost (in dollars) of putting one coat of paint on all walls and the ceiling.  Assume you can buy the exact amount of paint that you need, so you can buy partial gallons (e.g., if you need 7.523 gallons, you can buy that exact amount, instead of needing to buy 8 gallons and waste some paint).  Do not round your answer."
   ]
  },
  {
   "cell_type": "code",
   "execution_count": 6,
   "id": "fe133928",
   "metadata": {
    "execution": {
     "iopub.execute_input": "2023-02-25T07:28:35.465684Z",
     "iopub.status.busy": "2023-02-25T07:28:35.465246Z",
     "iopub.status.idle": "2023-02-25T07:28:35.476162Z",
     "shell.execute_reply": "2023-02-25T07:28:35.474898Z"
    },
    "papermill": {
     "duration": 0.021462,
     "end_time": "2023-02-25T07:28:35.478674",
     "exception": false,
     "start_time": "2023-02-25T07:28:35.457212",
     "status": "completed"
    },
    "tags": []
   },
   "outputs": [
    {
     "data": {
      "application/javascript": [
       "parent.postMessage({\"jupyterEvent\": \"custom.exercise_interaction\", \"data\": {\"outcomeType\": 1, \"valueTowardsCompletion\": 0.2, \"interactionType\": 1, \"questionType\": 2, \"questionId\": \"3_GetCostPaint\", \"learnToolsVersion\": \"0.3.4\", \"failureMessage\": \"\", \"exceptionClass\": \"\", \"trace\": \"\"}}, \"*\")"
      ],
      "text/plain": [
       "<IPython.core.display.Javascript object>"
      ]
     },
     "metadata": {},
     "output_type": "display_data"
    },
    {
     "data": {
      "text/markdown": [
       "<span style=\"color:#33cc33\">Correct</span>"
      ],
      "text/plain": [
       "Correct"
      ]
     },
     "metadata": {},
     "output_type": "display_data"
    }
   ],
   "source": [
    "# TODO: Finish defining the function\n",
    "def get_cost(sqft_walls, sqft_ceiling, sqft_per_gallon, cost_per_gallon):\n",
    "    total_sqft =sqft_walls+sqft_ceiling\n",
    "    paint = total_sqft/sqft_per_gallon\n",
    "    cost = cost_per_gallon*paint\n",
    "    return cost\n",
    "\n",
    "# Check your answer\n",
    "q3.check()"
   ]
  },
  {
   "cell_type": "code",
   "execution_count": 7,
   "id": "82d7a796",
   "metadata": {
    "execution": {
     "iopub.execute_input": "2023-02-25T07:28:35.495589Z",
     "iopub.status.busy": "2023-02-25T07:28:35.495163Z",
     "iopub.status.idle": "2023-02-25T07:28:35.499700Z",
     "shell.execute_reply": "2023-02-25T07:28:35.498641Z"
    },
    "papermill": {
     "duration": 0.015427,
     "end_time": "2023-02-25T07:28:35.502019",
     "exception": false,
     "start_time": "2023-02-25T07:28:35.486592",
     "status": "completed"
    },
    "tags": []
   },
   "outputs": [],
   "source": [
    "# Uncomment to see a hint\n",
    "#q3.hint()\n",
    "\n",
    "# Uncomment to view the solution\n",
    "#q3.solution()"
   ]
  },
  {
   "cell_type": "markdown",
   "id": "dcd87bb5",
   "metadata": {
    "papermill": {
     "duration": 0.006597,
     "end_time": "2023-02-25T07:28:35.515529",
     "exception": false,
     "start_time": "2023-02-25T07:28:35.508932",
     "status": "completed"
    },
    "tags": []
   },
   "source": [
    "# Question 4\n",
    "\n",
    "Use the `get_cost()` function you defined in Question 3 to calculate the cost of applying one coat of paint to a room with:\n",
    "- 432 square feet of walls, and\n",
    "- 144 square feet of ceiling.\n",
    "\n",
    "Assume that one gallon of paint covers 400 square feet and costs $15.  As in Question 3, assume you can buy partial gallons of paint.  Do not round your answer."
   ]
  },
  {
   "cell_type": "code",
   "execution_count": 8,
   "id": "5a57c7ec",
   "metadata": {
    "execution": {
     "iopub.execute_input": "2023-02-25T07:28:35.531273Z",
     "iopub.status.busy": "2023-02-25T07:28:35.530840Z",
     "iopub.status.idle": "2023-02-25T07:28:35.540483Z",
     "shell.execute_reply": "2023-02-25T07:28:35.539247Z"
    },
    "papermill": {
     "duration": 0.020275,
     "end_time": "2023-02-25T07:28:35.542735",
     "exception": false,
     "start_time": "2023-02-25T07:28:35.522460",
     "status": "completed"
    },
    "tags": []
   },
   "outputs": [
    {
     "data": {
      "application/javascript": [
       "parent.postMessage({\"jupyterEvent\": \"custom.exercise_interaction\", \"data\": {\"outcomeType\": 1, \"valueTowardsCompletion\": 0.2, \"interactionType\": 1, \"questionType\": 1, \"questionId\": \"4_GetCostPaintExample\", \"learnToolsVersion\": \"0.3.4\", \"failureMessage\": \"\", \"exceptionClass\": \"\", \"trace\": \"\"}}, \"*\")"
      ],
      "text/plain": [
       "<IPython.core.display.Javascript object>"
      ]
     },
     "metadata": {},
     "output_type": "display_data"
    },
    {
     "data": {
      "text/markdown": [
       "<span style=\"color:#33cc33\">Correct</span>"
      ],
      "text/plain": [
       "Correct"
      ]
     },
     "metadata": {},
     "output_type": "display_data"
    }
   ],
   "source": [
    "# TODO: Set the project_cost variable to the cost of the project\n",
    "project_cost = get_cost(432,144,400,15)\n",
    "\n",
    "# Check your answer\n",
    "q4.check()"
   ]
  },
  {
   "cell_type": "code",
   "execution_count": 9,
   "id": "f90b13c9",
   "metadata": {
    "execution": {
     "iopub.execute_input": "2023-02-25T07:28:35.558676Z",
     "iopub.status.busy": "2023-02-25T07:28:35.558246Z",
     "iopub.status.idle": "2023-02-25T07:28:35.563374Z",
     "shell.execute_reply": "2023-02-25T07:28:35.562128Z"
    },
    "papermill": {
     "duration": 0.016086,
     "end_time": "2023-02-25T07:28:35.565837",
     "exception": false,
     "start_time": "2023-02-25T07:28:35.549751",
     "status": "completed"
    },
    "tags": []
   },
   "outputs": [],
   "source": [
    "# Uncomment to see a hint\n",
    "#q4.hint()\n",
    "\n",
    "# Uncomment to view the solution\n",
    "#q4.solution()"
   ]
  },
  {
   "cell_type": "markdown",
   "id": "11d0546f",
   "metadata": {
    "papermill": {
     "duration": 0.00715,
     "end_time": "2023-02-25T07:28:35.580210",
     "exception": false,
     "start_time": "2023-02-25T07:28:35.573060",
     "status": "completed"
    },
    "tags": []
   },
   "source": [
    "# 🌶️ Question 5\n",
    "\n",
    "Now say you can no longer buy fractions of a gallon.  (For instance, if you need 4.3 gallons to do a project, then you have to buy 5 gallons of paint.)\n",
    "\n",
    "With this new scenario, you will create a new function `get_actual_cost` that uses the same inputs and calculates the cost of your project.\n",
    "\n",
    "One function that you'll need to use to do this is `math.ceil()`.  We demonstrate usage of this function in the code cell below.  It takes as a number as input and rounds the number up to the nearest integer.  \n",
    "\n",
    "Run the next code cell to test this function for yourself.  Feel free to change the value of `test_value` and make sure `math.ceil()` returns the number you expect."
   ]
  },
  {
   "cell_type": "code",
   "execution_count": 10,
   "id": "fb1e5df7",
   "metadata": {
    "execution": {
     "iopub.execute_input": "2023-02-25T07:28:35.596780Z",
     "iopub.status.busy": "2023-02-25T07:28:35.596314Z",
     "iopub.status.idle": "2023-02-25T07:28:35.603318Z",
     "shell.execute_reply": "2023-02-25T07:28:35.601289Z"
    },
    "papermill": {
     "duration": 0.018417,
     "end_time": "2023-02-25T07:28:35.605768",
     "exception": false,
     "start_time": "2023-02-25T07:28:35.587351",
     "status": "completed"
    },
    "tags": []
   },
   "outputs": [
    {
     "name": "stdout",
     "output_type": "stream",
     "text": [
      "3\n"
     ]
    }
   ],
   "source": [
    "test_value = 2.17\n",
    "\n",
    "rounded_value = math.ceil(test_value)\n",
    "print(rounded_value)"
   ]
  },
  {
   "cell_type": "markdown",
   "id": "c028e97c",
   "metadata": {
    "papermill": {
     "duration": 0.007014,
     "end_time": "2023-02-25T07:28:35.620196",
     "exception": false,
     "start_time": "2023-02-25T07:28:35.613182",
     "status": "completed"
    },
    "tags": []
   },
   "source": [
    "Use the next code cell to define the function `get_actual_cost()`.  You'll need to use the `math.ceil()` function to do this.\n",
    "\n",
    "When answering this question, note that it's completely valid to define a function that makes use of another function.  For instance, we can define a function `round_up_and_divide_by_three` that makes use of the `math.ceil` function:\n",
    "```\n",
    "def round_up_and_divide_by_three(num):\n",
    "    new_value = math.ceil(num)\n",
    "    final_value = new_value / 3\n",
    "    return final_value\n",
    "```"
   ]
  },
  {
   "cell_type": "code",
   "execution_count": 11,
   "id": "21242bd3",
   "metadata": {
    "execution": {
     "iopub.execute_input": "2023-02-25T07:28:35.636718Z",
     "iopub.status.busy": "2023-02-25T07:28:35.636280Z",
     "iopub.status.idle": "2023-02-25T07:28:35.645664Z",
     "shell.execute_reply": "2023-02-25T07:28:35.644749Z"
    },
    "papermill": {
     "duration": 0.020289,
     "end_time": "2023-02-25T07:28:35.647783",
     "exception": false,
     "start_time": "2023-02-25T07:28:35.627494",
     "status": "completed"
    },
    "tags": []
   },
   "outputs": [
    {
     "data": {
      "application/javascript": [
       "parent.postMessage({\"jupyterEvent\": \"custom.exercise_interaction\", \"data\": {\"outcomeType\": 1, \"valueTowardsCompletion\": 0.2, \"interactionType\": 1, \"questionType\": 2, \"questionId\": \"5_NoMoreFractions\", \"learnToolsVersion\": \"0.3.4\", \"failureMessage\": \"\", \"exceptionClass\": \"\", \"trace\": \"\"}}, \"*\")"
      ],
      "text/plain": [
       "<IPython.core.display.Javascript object>"
      ]
     },
     "metadata": {},
     "output_type": "display_data"
    },
    {
     "data": {
      "text/markdown": [
       "<span style=\"color:#33cc33\">Correct</span>"
      ],
      "text/plain": [
       "Correct"
      ]
     },
     "metadata": {},
     "output_type": "display_data"
    }
   ],
   "source": [
    "def get_actual_cost(sqft_walls, sqft_ceiling, sqft_per_gallon, cost_per_gallon):\n",
    "    total_sqft = sqft_walls+sqft_ceiling\n",
    "    paint = math.ceil(total_sqft/sqft_per_gallon)\n",
    "    cost = cost_per_gallon*paint\n",
    "    return cost\n",
    "\n",
    "# Check your answer\n",
    "q5.check()"
   ]
  },
  {
   "cell_type": "code",
   "execution_count": 12,
   "id": "2086d177",
   "metadata": {
    "execution": {
     "iopub.execute_input": "2023-02-25T07:28:35.665082Z",
     "iopub.status.busy": "2023-02-25T07:28:35.664292Z",
     "iopub.status.idle": "2023-02-25T07:28:35.669289Z",
     "shell.execute_reply": "2023-02-25T07:28:35.668124Z"
    },
    "papermill": {
     "duration": 0.016108,
     "end_time": "2023-02-25T07:28:35.671593",
     "exception": false,
     "start_time": "2023-02-25T07:28:35.655485",
     "status": "completed"
    },
    "tags": []
   },
   "outputs": [],
   "source": [
    "# Uncomment to see a hint\n",
    "#q5.hint()\n",
    "\n",
    "# Uncomment to view the solution\n",
    "#q5.solution()"
   ]
  },
  {
   "cell_type": "markdown",
   "id": "10603a71",
   "metadata": {
    "papermill": {
     "duration": 0.007074,
     "end_time": "2023-02-25T07:28:35.686154",
     "exception": false,
     "start_time": "2023-02-25T07:28:35.679080",
     "status": "completed"
    },
    "tags": []
   },
   "source": [
    "Once your function is verified as correct, run the next code cell to calculate the updated cost of your project."
   ]
  },
  {
   "cell_type": "code",
   "execution_count": 13,
   "id": "5a2900fa",
   "metadata": {
    "execution": {
     "iopub.execute_input": "2023-02-25T07:28:35.703014Z",
     "iopub.status.busy": "2023-02-25T07:28:35.702567Z",
     "iopub.status.idle": "2023-02-25T07:28:35.710087Z",
     "shell.execute_reply": "2023-02-25T07:28:35.708771Z"
    },
    "papermill": {
     "duration": 0.018917,
     "end_time": "2023-02-25T07:28:35.712493",
     "exception": false,
     "start_time": "2023-02-25T07:28:35.693576",
     "status": "completed"
    },
    "tags": []
   },
   "outputs": [
    {
     "data": {
      "text/plain": [
       "30"
      ]
     },
     "execution_count": 13,
     "metadata": {},
     "output_type": "execute_result"
    }
   ],
   "source": [
    "get_actual_cost(432, 144, 400, 15) "
   ]
  },
  {
   "cell_type": "markdown",
   "id": "63777ea4",
   "metadata": {
    "papermill": {
     "duration": 0.007273,
     "end_time": "2023-02-25T07:28:35.727406",
     "exception": false,
     "start_time": "2023-02-25T07:28:35.720133",
     "status": "completed"
    },
    "tags": []
   },
   "source": [
    "Say you're working with a slightly larger room.  Run the next code cell to calculate the cost of the project."
   ]
  },
  {
   "cell_type": "code",
   "execution_count": 14,
   "id": "8f35834a",
   "metadata": {
    "execution": {
     "iopub.execute_input": "2023-02-25T07:28:35.745170Z",
     "iopub.status.busy": "2023-02-25T07:28:35.744718Z",
     "iopub.status.idle": "2023-02-25T07:28:35.752276Z",
     "shell.execute_reply": "2023-02-25T07:28:35.750965Z"
    },
    "papermill": {
     "duration": 0.019027,
     "end_time": "2023-02-25T07:28:35.754583",
     "exception": false,
     "start_time": "2023-02-25T07:28:35.735556",
     "status": "completed"
    },
    "tags": []
   },
   "outputs": [
    {
     "data": {
      "text/plain": [
       "45"
      ]
     },
     "execution_count": 14,
     "metadata": {},
     "output_type": "execute_result"
    }
   ],
   "source": [
    "get_actual_cost(594, 288, 400, 15) "
   ]
  },
  {
   "cell_type": "markdown",
   "id": "ccd3ddbd",
   "metadata": {
    "papermill": {
     "duration": 0.007344,
     "end_time": "2023-02-25T07:28:35.769567",
     "exception": false,
     "start_time": "2023-02-25T07:28:35.762223",
     "status": "completed"
    },
    "tags": []
   },
   "source": [
    "# Keep going\n",
    "\n",
    "Continue to learn about **[data types](https://www.kaggle.com/alexisbcook/data-types)**."
   ]
  },
  {
   "cell_type": "markdown",
   "id": "150cddc8",
   "metadata": {
    "papermill": {
     "duration": 0.007357,
     "end_time": "2023-02-25T07:28:35.784730",
     "exception": false,
     "start_time": "2023-02-25T07:28:35.777373",
     "status": "completed"
    },
    "tags": []
   },
   "source": [
    "---\n",
    "\n",
    "\n",
    "\n",
    "\n",
    "*Have questions or comments? Visit the [course discussion forum](https://www.kaggle.com/learn/intro-to-programming/discussion) to chat with other learners.*"
   ]
  }
 ],
 "metadata": {
  "kernelspec": {
   "display_name": "Python 3",
   "language": "python",
   "name": "python3"
  },
  "language_info": {
   "codemirror_mode": {
    "name": "ipython",
    "version": 3
   },
   "file_extension": ".py",
   "mimetype": "text/x-python",
   "name": "python",
   "nbconvert_exporter": "python",
   "pygments_lexer": "ipython3",
   "version": "3.7.12"
  },
  "papermill": {
   "default_parameters": {},
   "duration": 13.323571,
   "end_time": "2023-02-25T07:28:36.515752",
   "environment_variables": {},
   "exception": null,
   "input_path": "__notebook__.ipynb",
   "output_path": "__notebook__.ipynb",
   "parameters": {},
   "start_time": "2023-02-25T07:28:23.192181",
   "version": "2.4.0"
  }
 },
 "nbformat": 4,
 "nbformat_minor": 5
}
