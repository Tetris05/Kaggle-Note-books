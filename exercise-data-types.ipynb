{
 "cells": [
  {
   "cell_type": "markdown",
   "id": "d0d8709a",
   "metadata": {
    "papermill": {
     "duration": 0.007818,
     "end_time": "2023-02-25T12:33:57.333647",
     "exception": false,
     "start_time": "2023-02-25T12:33:57.325829",
     "status": "completed"
    },
    "tags": []
   },
   "source": [
    "**This notebook is an exercise in the [Intro to Programming](https://www.kaggle.com/learn/intro-to-programming) course.  You can reference the tutorial at [this link](https://www.kaggle.com/alexisbcook/data-types).**\n",
    "\n",
    "---\n"
   ]
  },
  {
   "cell_type": "markdown",
   "id": "7dddaf15",
   "metadata": {
    "papermill": {
     "duration": 0.006787,
     "end_time": "2023-02-25T12:33:57.351181",
     "exception": false,
     "start_time": "2023-02-25T12:33:57.344394",
     "status": "completed"
    },
    "tags": []
   },
   "source": [
    "In the tutorial, you learned about four different data types: floats, integers, strings, and booleans.  In this exercise, you'll experiment with them.\n",
    "\n",
    "# Set up the notebook\n",
    "\n",
    "Run the next code cell without changes to set up the notebook."
   ]
  },
  {
   "cell_type": "code",
   "execution_count": 1,
   "id": "6034d676",
   "metadata": {
    "execution": {
     "iopub.execute_input": "2023-02-25T12:33:57.366548Z",
     "iopub.status.busy": "2023-02-25T12:33:57.365985Z",
     "iopub.status.idle": "2023-02-25T12:33:57.415806Z",
     "shell.execute_reply": "2023-02-25T12:33:57.414835Z"
    },
    "papermill": {
     "duration": 0.061022,
     "end_time": "2023-02-25T12:33:57.418843",
     "exception": false,
     "start_time": "2023-02-25T12:33:57.357821",
     "status": "completed"
    },
    "tags": []
   },
   "outputs": [
    {
     "name": "stdout",
     "output_type": "stream",
     "text": [
      "Setup complete.\n"
     ]
    }
   ],
   "source": [
    "# Set up the exercise\n",
    "from learntools.core import binder\n",
    "binder.bind(globals())\n",
    "from learntools.intro_to_programming.ex3 import *\n",
    "print('Setup complete.')"
   ]
  },
  {
   "cell_type": "markdown",
   "id": "457fb5ff",
   "metadata": {
    "papermill": {
     "duration": 0.006428,
     "end_time": "2023-02-25T12:33:57.432337",
     "exception": false,
     "start_time": "2023-02-25T12:33:57.425909",
     "status": "completed"
    },
    "tags": []
   },
   "source": [
    "# Question 1\n",
    "\n",
    "You have seen how to convert a float to an integer with the `int` function.  Try this out yourself by running the code cell below."
   ]
  },
  {
   "cell_type": "code",
   "execution_count": 2,
   "id": "ec827583",
   "metadata": {
    "execution": {
     "iopub.execute_input": "2023-02-25T12:33:57.448130Z",
     "iopub.status.busy": "2023-02-25T12:33:57.447267Z",
     "iopub.status.idle": "2023-02-25T12:33:57.455235Z",
     "shell.execute_reply": "2023-02-25T12:33:57.453484Z"
    },
    "papermill": {
     "duration": 0.018644,
     "end_time": "2023-02-25T12:33:57.457775",
     "exception": false,
     "start_time": "2023-02-25T12:33:57.439131",
     "status": "completed"
    },
    "tags": []
   },
   "outputs": [
    {
     "name": "stdout",
     "output_type": "stream",
     "text": [
      "1.0\n",
      "<class 'float'>\n",
      "1\n",
      "<class 'int'>\n"
     ]
    }
   ],
   "source": [
    "# Define a float\n",
    "y = 1.\n",
    "print(y)\n",
    "print(type(y))\n",
    "\n",
    "# Convert float to integer with the int function\n",
    "z = int(y)\n",
    "print(z)\n",
    "print(type(z))"
   ]
  },
  {
   "cell_type": "markdown",
   "id": "20222252",
   "metadata": {
    "papermill": {
     "duration": 0.006539,
     "end_time": "2023-02-25T12:33:57.471124",
     "exception": false,
     "start_time": "2023-02-25T12:33:57.464585",
     "status": "completed"
    },
    "tags": []
   },
   "source": [
    "In this case, the float you are using has no numbers after the decimal.  \n",
    "- But what happens when you try to convert a float with a fractional part to an integer?  \n",
    "- How does the outcome of the `int` function change for positive and negative numbers?\n",
    "\n",
    "Use the next code cell to investigate and answer these questions.  Feel free to add or remove any lines of code -- it is your workspace!"
   ]
  },
  {
   "cell_type": "code",
   "execution_count": 3,
   "id": "294a48ba",
   "metadata": {
    "execution": {
     "iopub.execute_input": "2023-02-25T12:33:57.486929Z",
     "iopub.status.busy": "2023-02-25T12:33:57.486475Z",
     "iopub.status.idle": "2023-02-25T12:33:57.493821Z",
     "shell.execute_reply": "2023-02-25T12:33:57.492013Z"
    },
    "papermill": {
     "duration": 0.018637,
     "end_time": "2023-02-25T12:33:57.496821",
     "exception": false,
     "start_time": "2023-02-25T12:33:57.478184",
     "status": "completed"
    },
    "tags": []
   },
   "outputs": [
    {
     "name": "stdout",
     "output_type": "stream",
     "text": [
      "1\n",
      "1\n",
      "-3\n",
      "-2\n"
     ]
    }
   ],
   "source": [
    "# Uncomment and run this code to get started!\n",
    "print(int(1.2321))\n",
    "print(int(1.747))\n",
    "print(int(-3.94535))\n",
    "print(int(-2.19774))"
   ]
  },
  {
   "cell_type": "markdown",
   "id": "ebcb6201",
   "metadata": {
    "papermill": {
     "duration": 0.006552,
     "end_time": "2023-02-25T12:33:57.510379",
     "exception": false,
     "start_time": "2023-02-25T12:33:57.503827",
     "status": "completed"
    },
    "tags": []
   },
   "source": [
    "Once you have an answer, run the code cell below to see the solution.  Viewing the solution will give you credit for answering the problem."
   ]
  },
  {
   "cell_type": "code",
   "execution_count": 4,
   "id": "2ab85851",
   "metadata": {
    "execution": {
     "iopub.execute_input": "2023-02-25T12:33:57.526161Z",
     "iopub.status.busy": "2023-02-25T12:33:57.525541Z",
     "iopub.status.idle": "2023-02-25T12:33:57.535911Z",
     "shell.execute_reply": "2023-02-25T12:33:57.535014Z"
    },
    "papermill": {
     "duration": 0.021031,
     "end_time": "2023-02-25T12:33:57.538225",
     "exception": false,
     "start_time": "2023-02-25T12:33:57.517194",
     "status": "completed"
    },
    "tags": []
   },
   "outputs": [
    {
     "data": {
      "application/javascript": [
       "parent.postMessage({\"jupyterEvent\": \"custom.exercise_interaction\", \"data\": {\"outcomeType\": 1, \"valueTowardsCompletion\": 0.2, \"interactionType\": 1, \"questionType\": 4, \"questionId\": \"1_FloatToInt\", \"learnToolsVersion\": \"0.3.4\", \"failureMessage\": \"\", \"exceptionClass\": \"\", \"trace\": \"\"}}, \"*\")"
      ],
      "text/plain": [
       "<IPython.core.display.Javascript object>"
      ]
     },
     "metadata": {},
     "output_type": "display_data"
    },
    {
     "data": {
      "text/markdown": [
       "<span style=\"color:#33cc33\">Correct:</span> \n",
       "\n",
       "Negative floats are always rounded UP to the closest integer (for instance, both -1.1 and -1.9 are rounded up to -1). Positive floats are always rounded DOWN to the closest integer (for instance, 2.1 and 2.9 are rounded down to 2)."
      ],
      "text/plain": [
       "Correct: \n",
       "\n",
       "Negative floats are always rounded UP to the closest integer (for instance, both -1.1 and -1.9 are rounded up to -1). Positive floats are always rounded DOWN to the closest integer (for instance, 2.1 and 2.9 are rounded down to 2)."
      ]
     },
     "metadata": {},
     "output_type": "display_data"
    }
   ],
   "source": [
    "# Check your answer (Run this code cell to receive credit!)\n",
    "q1.check()"
   ]
  },
  {
   "cell_type": "markdown",
   "id": "eebcf4e9",
   "metadata": {
    "papermill": {
     "duration": 0.006751,
     "end_time": "2023-02-25T12:33:57.552191",
     "exception": false,
     "start_time": "2023-02-25T12:33:57.545440",
     "status": "completed"
    },
    "tags": []
   },
   "source": [
    "# Question 2\n",
    "\n",
    "In the tutorial, you learned about booleans (which can take a value of `True` or `False`), in addition to integers, floats, and strings.  For this question, your goal is to determine what happens when you multiply a boolean by any of these data types.  Specifically, \n",
    "- What happens when you multiply an integer or float by `True`?  What happens when you multiply them by `False`?  How does the answer change if the numbers are positive or negative?\n",
    "- What happens when you multiply a string by `True`?  By `False`?\n",
    "\n",
    "Use the next code cell for your investigation. "
   ]
  },
  {
   "cell_type": "code",
   "execution_count": 5,
   "id": "37df457d",
   "metadata": {
    "execution": {
     "iopub.execute_input": "2023-02-25T12:33:57.569240Z",
     "iopub.status.busy": "2023-02-25T12:33:57.568773Z",
     "iopub.status.idle": "2023-02-25T12:33:57.576241Z",
     "shell.execute_reply": "2023-02-25T12:33:57.574312Z"
    },
    "papermill": {
     "duration": 0.019321,
     "end_time": "2023-02-25T12:33:57.578557",
     "exception": false,
     "start_time": "2023-02-25T12:33:57.559236",
     "status": "completed"
    },
    "tags": []
   },
   "outputs": [
    {
     "name": "stdout",
     "output_type": "stream",
     "text": [
      "3\n",
      "-3.1\n",
      "<class 'str'>\n",
      "0\n"
     ]
    }
   ],
   "source": [
    "# Uncomment and run this code to get started!\n",
    "print(3 * True)\n",
    "print(-3.1 * True)\n",
    "print(type(\"abc\" * False))\n",
    "print(len(\"abc\" * False))"
   ]
  },
  {
   "cell_type": "markdown",
   "id": "52d99e4d",
   "metadata": {
    "papermill": {
     "duration": 0.00689,
     "end_time": "2023-02-25T12:33:57.592618",
     "exception": false,
     "start_time": "2023-02-25T12:33:57.585728",
     "status": "completed"
    },
    "tags": []
   },
   "source": [
    "Once you have an answer, run the code cell below to see the solution.  Viewing the solution will give you credit for answering the problem."
   ]
  },
  {
   "cell_type": "code",
   "execution_count": 6,
   "id": "6a6f221d",
   "metadata": {
    "execution": {
     "iopub.execute_input": "2023-02-25T12:33:57.609003Z",
     "iopub.status.busy": "2023-02-25T12:33:57.608599Z",
     "iopub.status.idle": "2023-02-25T12:33:57.617732Z",
     "shell.execute_reply": "2023-02-25T12:33:57.616514Z"
    },
    "papermill": {
     "duration": 0.020205,
     "end_time": "2023-02-25T12:33:57.619976",
     "exception": false,
     "start_time": "2023-02-25T12:33:57.599771",
     "status": "completed"
    },
    "tags": []
   },
   "outputs": [
    {
     "data": {
      "application/javascript": [
       "parent.postMessage({\"jupyterEvent\": \"custom.exercise_interaction\", \"data\": {\"outcomeType\": 1, \"valueTowardsCompletion\": 0.2, \"interactionType\": 1, \"questionType\": 4, \"questionId\": \"2_MultiplyBooleans\", \"learnToolsVersion\": \"0.3.4\", \"failureMessage\": \"\", \"exceptionClass\": \"\", \"trace\": \"\"}}, \"*\")"
      ],
      "text/plain": [
       "<IPython.core.display.Javascript object>"
      ]
     },
     "metadata": {},
     "output_type": "display_data"
    },
    {
     "data": {
      "text/markdown": [
       "<span style=\"color:#33cc33\">Correct:</span> \n",
       "\n",
       "When you multiple an integer or float by a boolean with value `True`, it just returns that same integer or float (and is equivalent to multiplying by 1).  If you multiply an integer or float by a boolean with value `False`, it always returns 0.  This is true for both positive and negative numbers.  If you multiply a string by a boolean with value `True`, it just returns that same string.  And if you multiply a string by a boolean with value `False`, it returns an empty string (or a string with length zero)."
      ],
      "text/plain": [
       "Correct: \n",
       "\n",
       "When you multiple an integer or float by a boolean with value `True`, it just returns that same integer or float (and is equivalent to multiplying by 1).  If you multiply an integer or float by a boolean with value `False`, it always returns 0.  This is true for both positive and negative numbers.  If you multiply a string by a boolean with value `True`, it just returns that same string.  And if you multiply a string by a boolean with value `False`, it returns an empty string (or a string with length zero)."
      ]
     },
     "metadata": {},
     "output_type": "display_data"
    }
   ],
   "source": [
    "# Check your answer (Run this code cell to receive credit!)\n",
    "q2.check()"
   ]
  },
  {
   "cell_type": "markdown",
   "id": "29246b78",
   "metadata": {
    "papermill": {
     "duration": 0.007075,
     "end_time": "2023-02-25T12:33:57.634565",
     "exception": false,
     "start_time": "2023-02-25T12:33:57.627490",
     "status": "completed"
    },
    "tags": []
   },
   "source": [
    "# Question 3\n",
    "\n",
    "In this question, you will build off your work from the previous exercise to write a function that estimates the value of a house.\n",
    "\n",
    "Use the next code cell to create a function `get_expected_cost` that takes as input three variables:\n",
    "- `beds` - number of bedrooms (data type float)\n",
    "- `baths` - number of bathrooms (data type float)\n",
    "- `has_basement` - whether or not the house has a basement (data type boolean)\n",
    "\n",
    "It should return the expected cost of a house with those characteristics. Assume that:\n",
    "- the expected cost for a house with 0 bedrooms and 0 bathrooms, and no basement is 80000, \n",
    "- each bedroom adds 30000 to the expected cost,\n",
    "- each bathroom adds 10000 to the expected cost, and\n",
    "- a basement adds 40000 to the expected cost.\n",
    "\n",
    "For instance,\n",
    "- a house with 1 bedroom, 1 bathroom, and no basement has an expected cost of 80000 + 30000 + 10000 = 120000.  This value will be calculated with `get_expected_cost(1, 1, False)`.\n",
    "- a house with 2 bedrooms, 1 bathroom, and a basement has an expected cost of 80000 + 2*30000 + 10000 + 40000 = 190000.  This value will be calculated with `get_expected_cost(2, 1, True)`.\n",
    "\n",
    "Remember you can always get a hint by uncommenting `q3.hint()` in the code cell following the next!"
   ]
  },
  {
   "cell_type": "code",
   "execution_count": 7,
   "id": "ebfc0a66",
   "metadata": {
    "execution": {
     "iopub.execute_input": "2023-02-25T12:33:57.651229Z",
     "iopub.status.busy": "2023-02-25T12:33:57.650769Z",
     "iopub.status.idle": "2023-02-25T12:33:57.660631Z",
     "shell.execute_reply": "2023-02-25T12:33:57.659637Z"
    },
    "papermill": {
     "duration": 0.02082,
     "end_time": "2023-02-25T12:33:57.662735",
     "exception": false,
     "start_time": "2023-02-25T12:33:57.641915",
     "status": "completed"
    },
    "tags": []
   },
   "outputs": [
    {
     "data": {
      "application/javascript": [
       "parent.postMessage({\"jupyterEvent\": \"custom.exercise_interaction\", \"data\": {\"outcomeType\": 1, \"valueTowardsCompletion\": 0.2, \"interactionType\": 1, \"questionType\": 2, \"questionId\": \"3_EstimateHouseValueBool\", \"learnToolsVersion\": \"0.3.4\", \"failureMessage\": \"\", \"exceptionClass\": \"\", \"trace\": \"\"}}, \"*\")"
      ],
      "text/plain": [
       "<IPython.core.display.Javascript object>"
      ]
     },
     "metadata": {},
     "output_type": "display_data"
    },
    {
     "data": {
      "text/markdown": [
       "<span style=\"color:#33cc33\">Correct</span>"
      ],
      "text/plain": [
       "Correct"
      ]
     },
     "metadata": {},
     "output_type": "display_data"
    }
   ],
   "source": [
    "# TODO: Complete the function\n",
    "def get_expected_cost(beds, baths, has_basement):\n",
    "    value = 80000+30000*beds+10000*baths+40000*has_basement\n",
    "    return value\n",
    "\n",
    "# Check your answer \n",
    "q3.check()"
   ]
  },
  {
   "cell_type": "code",
   "execution_count": 8,
   "id": "ac57917d",
   "metadata": {
    "execution": {
     "iopub.execute_input": "2023-02-25T12:33:57.680046Z",
     "iopub.status.busy": "2023-02-25T12:33:57.679589Z",
     "iopub.status.idle": "2023-02-25T12:33:57.684884Z",
     "shell.execute_reply": "2023-02-25T12:33:57.683577Z"
    },
    "papermill": {
     "duration": 0.016808,
     "end_time": "2023-02-25T12:33:57.687319",
     "exception": false,
     "start_time": "2023-02-25T12:33:57.670511",
     "status": "completed"
    },
    "tags": []
   },
   "outputs": [],
   "source": [
    "# Uncomment to see a hint\n",
    "#q3.hint()\n",
    "\n",
    "# Uncomment to view the solution\n",
    "#q3.solution()"
   ]
  },
  {
   "cell_type": "markdown",
   "id": "8dc22658",
   "metadata": {
    "papermill": {
     "duration": 0.007338,
     "end_time": "2023-02-25T12:33:57.702426",
     "exception": false,
     "start_time": "2023-02-25T12:33:57.695088",
     "status": "completed"
    },
    "tags": []
   },
   "source": [
    "# Question 4\n",
    "\n",
    "We'll continue our study of boolean arithmetic.  For this question, your task is to provide a description of what happpens when you add booleans. \n",
    "\n",
    "Use the next code cell for your investigation.  Feel free to add or remove any lines of code - use it as your workspace!"
   ]
  },
  {
   "cell_type": "code",
   "execution_count": 9,
   "id": "1eec4968",
   "metadata": {
    "execution": {
     "iopub.execute_input": "2023-02-25T12:33:57.719627Z",
     "iopub.status.busy": "2023-02-25T12:33:57.719175Z",
     "iopub.status.idle": "2023-02-25T12:33:57.726069Z",
     "shell.execute_reply": "2023-02-25T12:33:57.724900Z"
    },
    "papermill": {
     "duration": 0.018848,
     "end_time": "2023-02-25T12:33:57.728853",
     "exception": false,
     "start_time": "2023-02-25T12:33:57.710005",
     "status": "completed"
    },
    "tags": []
   },
   "outputs": [
    {
     "name": "stdout",
     "output_type": "stream",
     "text": [
      "0\n",
      "1\n",
      "1\n",
      "2\n",
      "3\n"
     ]
    }
   ],
   "source": [
    "print(False + False)\n",
    "print(True + False)\n",
    "print(False + True)\n",
    "print(True + True)\n",
    "print(False + True + True + True)"
   ]
  },
  {
   "cell_type": "markdown",
   "id": "bd759eba",
   "metadata": {
    "papermill": {
     "duration": 0.007624,
     "end_time": "2023-02-25T12:33:57.745013",
     "exception": false,
     "start_time": "2023-02-25T12:33:57.737389",
     "status": "completed"
    },
    "tags": []
   },
   "source": [
    "Once you have an answer, run the code cell below to see the solution.  Viewing the solution will give you credit for answering the problem."
   ]
  },
  {
   "cell_type": "code",
   "execution_count": 10,
   "id": "af49c540",
   "metadata": {
    "execution": {
     "iopub.execute_input": "2023-02-25T12:33:57.762950Z",
     "iopub.status.busy": "2023-02-25T12:33:57.762525Z",
     "iopub.status.idle": "2023-02-25T12:33:57.772137Z",
     "shell.execute_reply": "2023-02-25T12:33:57.770961Z"
    },
    "papermill": {
     "duration": 0.02148,
     "end_time": "2023-02-25T12:33:57.774579",
     "exception": false,
     "start_time": "2023-02-25T12:33:57.753099",
     "status": "completed"
    },
    "tags": []
   },
   "outputs": [
    {
     "data": {
      "application/javascript": [
       "parent.postMessage({\"jupyterEvent\": \"custom.exercise_interaction\", \"data\": {\"outcomeType\": 1, \"valueTowardsCompletion\": 0.2, \"interactionType\": 1, \"questionType\": 4, \"questionId\": \"4_AddingBooleans\", \"learnToolsVersion\": \"0.3.4\", \"failureMessage\": \"\", \"exceptionClass\": \"\", \"trace\": \"\"}}, \"*\")"
      ],
      "text/plain": [
       "<IPython.core.display.Javascript object>"
      ]
     },
     "metadata": {},
     "output_type": "display_data"
    },
    {
     "data": {
      "text/markdown": [
       "<span style=\"color:#33cc33\">Correct:</span> \n",
       "\n",
       "When you add booleans, adding `False` is equivalent to adding 0, and adding `True` is equivalent to adding 1."
      ],
      "text/plain": [
       "Correct: \n",
       "\n",
       "When you add booleans, adding `False` is equivalent to adding 0, and adding `True` is equivalent to adding 1."
      ]
     },
     "metadata": {},
     "output_type": "display_data"
    }
   ],
   "source": [
    "# Check your answer (Run this code cell to receive credit!)\n",
    "q4.check()"
   ]
  },
  {
   "cell_type": "code",
   "execution_count": null,
   "id": "1305e946",
   "metadata": {
    "papermill": {
     "duration": 0.007716,
     "end_time": "2023-02-25T12:33:57.790368",
     "exception": false,
     "start_time": "2023-02-25T12:33:57.782652",
     "status": "completed"
    },
    "tags": []
   },
   "outputs": [],
   "source": []
  },
  {
   "cell_type": "raw",
   "id": "7260eb37",
   "metadata": {
    "papermill": {
     "duration": 0.007834,
     "end_time": "2023-02-25T12:33:57.806134",
     "exception": false,
     "start_time": "2023-02-25T12:33:57.798300",
     "status": "completed"
    },
    "tags": []
   },
   "source": [
    "# 🌶️ Question 5\n",
    "\n",
    "You own an online shop where you sell rings with custom engravings.  You offer both gold plated and solid gold rings.\n",
    "- Gold plated rings have a base cost of \\\\$50, and you charge \\\\$7 per engraved unit.  \n",
    "- Solid gold rings have a base cost of \\\\$100, and you charge \\\\$10 per engraved unit.\n",
    "- Spaces and punctuation are counted as engraved units.\n",
    "\n",
    "Write a function `cost_of_project()` that takes two arguments:\n",
    "- `engraving` - a Python string with the text of the engraving\n",
    "- `solid_gold` - a Boolean that indicates whether the ring is solid gold\n",
    "\n",
    "It should return the cost of the project.  This question should be fairly challenging, and you may need a hint."
   ]
  },
  {
   "cell_type": "code",
   "execution_count": 11,
   "id": "0c23072f",
   "metadata": {
    "execution": {
     "iopub.execute_input": "2023-02-25T12:33:57.823995Z",
     "iopub.status.busy": "2023-02-25T12:33:57.823596Z",
     "iopub.status.idle": "2023-02-25T12:33:57.833036Z",
     "shell.execute_reply": "2023-02-25T12:33:57.832182Z"
    },
    "papermill": {
     "duration": 0.021359,
     "end_time": "2023-02-25T12:33:57.835453",
     "exception": false,
     "start_time": "2023-02-25T12:33:57.814094",
     "status": "completed"
    },
    "tags": []
   },
   "outputs": [
    {
     "data": {
      "application/javascript": [
       "parent.postMessage({\"jupyterEvent\": \"custom.exercise_interaction\", \"data\": {\"outcomeType\": 1, \"valueTowardsCompletion\": 0.2, \"interactionType\": 1, \"questionType\": 2, \"questionId\": \"5_CustomEngravings\", \"learnToolsVersion\": \"0.3.4\", \"failureMessage\": \"\", \"exceptionClass\": \"\", \"trace\": \"\"}}, \"*\")"
      ],
      "text/plain": [
       "<IPython.core.display.Javascript object>"
      ]
     },
     "metadata": {},
     "output_type": "display_data"
    },
    {
     "data": {
      "text/markdown": [
       "<span style=\"color:#33cc33\">Correct</span>"
      ],
      "text/plain": [
       "Correct"
      ]
     },
     "metadata": {},
     "output_type": "display_data"
    }
   ],
   "source": [
    "def cost_of_project(engraving, solid_gold):\n",
    "    cost = solid_gold*(100+10*len(engraving))+(not solid_gold)*(50+7*len(engraving))\n",
    "    return cost\n",
    "\n",
    "# Check your answer\n",
    "q5.check()"
   ]
  },
  {
   "cell_type": "code",
   "execution_count": 12,
   "id": "e6142502",
   "metadata": {
    "execution": {
     "iopub.execute_input": "2023-02-25T12:33:57.854247Z",
     "iopub.status.busy": "2023-02-25T12:33:57.853801Z",
     "iopub.status.idle": "2023-02-25T12:33:57.858393Z",
     "shell.execute_reply": "2023-02-25T12:33:57.857315Z"
    },
    "papermill": {
     "duration": 0.017042,
     "end_time": "2023-02-25T12:33:57.860896",
     "exception": false,
     "start_time": "2023-02-25T12:33:57.843854",
     "status": "completed"
    },
    "tags": []
   },
   "outputs": [],
   "source": [
    "# Uncomment to see a hint\n",
    "#q5.hint()\n",
    "\n",
    "# Uncomment to view the solution\n",
    "#q5.solution()"
   ]
  },
  {
   "cell_type": "markdown",
   "id": "0171530d",
   "metadata": {
    "papermill": {
     "duration": 0.008155,
     "end_time": "2023-02-25T12:33:57.877430",
     "exception": false,
     "start_time": "2023-02-25T12:33:57.869275",
     "status": "completed"
    },
    "tags": []
   },
   "source": [
    "Run the next code cell to calculate the cost of engraving `Charlie+Denver` on a solid gold ring."
   ]
  },
  {
   "cell_type": "code",
   "execution_count": 13,
   "id": "8c9d7e94",
   "metadata": {
    "execution": {
     "iopub.execute_input": "2023-02-25T12:33:57.896086Z",
     "iopub.status.busy": "2023-02-25T12:33:57.895700Z",
     "iopub.status.idle": "2023-02-25T12:33:57.902459Z",
     "shell.execute_reply": "2023-02-25T12:33:57.900869Z"
    },
    "papermill": {
     "duration": 0.01982,
     "end_time": "2023-02-25T12:33:57.905527",
     "exception": false,
     "start_time": "2023-02-25T12:33:57.885707",
     "status": "completed"
    },
    "tags": []
   },
   "outputs": [
    {
     "name": "stdout",
     "output_type": "stream",
     "text": [
      "240\n"
     ]
    }
   ],
   "source": [
    "project_one = cost_of_project(\"Charlie+Denver\", True)\n",
    "print(project_one)"
   ]
  },
  {
   "cell_type": "markdown",
   "id": "cb66b9c1",
   "metadata": {
    "papermill": {
     "duration": 0.010578,
     "end_time": "2023-02-25T12:33:57.926641",
     "exception": false,
     "start_time": "2023-02-25T12:33:57.916063",
     "status": "completed"
    },
    "tags": []
   },
   "source": [
    "Use the next code cell to calculate the cost of engraving `08/10/2000` on a gold plated ring."
   ]
  },
  {
   "cell_type": "code",
   "execution_count": 14,
   "id": "8c8c88a8",
   "metadata": {
    "execution": {
     "iopub.execute_input": "2023-02-25T12:33:57.954569Z",
     "iopub.status.busy": "2023-02-25T12:33:57.953883Z",
     "iopub.status.idle": "2023-02-25T12:33:57.962322Z",
     "shell.execute_reply": "2023-02-25T12:33:57.960743Z"
    },
    "papermill": {
     "duration": 0.027874,
     "end_time": "2023-02-25T12:33:57.965476",
     "exception": false,
     "start_time": "2023-02-25T12:33:57.937602",
     "status": "completed"
    },
    "tags": []
   },
   "outputs": [
    {
     "name": "stdout",
     "output_type": "stream",
     "text": [
      "120\n"
     ]
    }
   ],
   "source": [
    "project_two = cost_of_project(\"08/10/2000\", False)\n",
    "print(project_two)"
   ]
  },
  {
   "cell_type": "markdown",
   "id": "4cee3d35",
   "metadata": {
    "papermill": {
     "duration": 0.011061,
     "end_time": "2023-02-25T12:33:57.985259",
     "exception": false,
     "start_time": "2023-02-25T12:33:57.974198",
     "status": "completed"
    },
    "tags": []
   },
   "source": [
    "# Keep going\n",
    "\n",
    "Continue to the next lesson to **[learn about conditions and conditional statements](https://www.kaggle.com/alexisbcook/conditions-and-conditional-statements)**."
   ]
  },
  {
   "cell_type": "markdown",
   "id": "e5a20afd",
   "metadata": {
    "papermill": {
     "duration": 0.008777,
     "end_time": "2023-02-25T12:33:58.008851",
     "exception": false,
     "start_time": "2023-02-25T12:33:58.000074",
     "status": "completed"
    },
    "tags": []
   },
   "source": [
    "---\n",
    "\n",
    "\n",
    "\n",
    "\n",
    "*Have questions or comments? Visit the [course discussion forum](https://www.kaggle.com/learn/intro-to-programming/discussion) to chat with other learners.*"
   ]
  }
 ],
 "metadata": {
  "kernelspec": {
   "display_name": "Python 3",
   "language": "python",
   "name": "python3"
  },
  "language_info": {
   "codemirror_mode": {
    "name": "ipython",
    "version": 3
   },
   "file_extension": ".py",
   "mimetype": "text/x-python",
   "name": "python",
   "nbconvert_exporter": "python",
   "pygments_lexer": "ipython3",
   "version": "3.7.12"
  },
  "papermill": {
   "default_parameters": {},
   "duration": 11.72181,
   "end_time": "2023-02-25T12:33:58.739273",
   "environment_variables": {},
   "exception": null,
   "input_path": "__notebook__.ipynb",
   "output_path": "__notebook__.ipynb",
   "parameters": {},
   "start_time": "2023-02-25T12:33:47.017463",
   "version": "2.4.0"
  }
 },
 "nbformat": 4,
 "nbformat_minor": 5
}
