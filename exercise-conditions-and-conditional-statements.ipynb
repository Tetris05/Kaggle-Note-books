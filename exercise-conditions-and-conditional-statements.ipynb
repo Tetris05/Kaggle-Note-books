{
 "cells": [
  {
   "cell_type": "markdown",
   "id": "3f452391",
   "metadata": {
    "papermill": {
     "duration": 0.008318,
     "end_time": "2023-02-25T19:10:53.579420",
     "exception": false,
     "start_time": "2023-02-25T19:10:53.571102",
     "status": "completed"
    },
    "tags": []
   },
   "source": [
    "**This notebook is an exercise in the [Intro to Programming](https://www.kaggle.com/learn/intro-to-programming) course.  You can reference the tutorial at [this link](https://www.kaggle.com/alexisbcook/conditions-and-conditional-statements).**\n",
    "\n",
    "---\n"
   ]
  },
  {
   "cell_type": "markdown",
   "id": "7cd85cdd",
   "metadata": {
    "papermill": {
     "duration": 0.007045,
     "end_time": "2023-02-25T19:10:53.593999",
     "exception": false,
     "start_time": "2023-02-25T19:10:53.586954",
     "status": "completed"
    },
    "tags": []
   },
   "source": [
    "In the tutorial, you learned about conditions and conditional statements. In this exercise, you will use what you learned to answer several questions.\n",
    "\n",
    "# Set up the notebook\n",
    "\n",
    "Run the next code cell without changes to set up the notebook."
   ]
  },
  {
   "cell_type": "code",
   "execution_count": 1,
   "id": "9d0b7265",
   "metadata": {
    "execution": {
     "iopub.execute_input": "2023-02-25T19:10:53.611477Z",
     "iopub.status.busy": "2023-02-25T19:10:53.610420Z",
     "iopub.status.idle": "2023-02-25T19:10:53.663143Z",
     "shell.execute_reply": "2023-02-25T19:10:53.661661Z"
    },
    "papermill": {
     "duration": 0.065081,
     "end_time": "2023-02-25T19:10:53.666305",
     "exception": false,
     "start_time": "2023-02-25T19:10:53.601224",
     "status": "completed"
    },
    "tags": []
   },
   "outputs": [
    {
     "name": "stdout",
     "output_type": "stream",
     "text": [
      "Setup complete.\n"
     ]
    }
   ],
   "source": [
    "from learntools.core import binder\n",
    "binder.bind(globals())\n",
    "from learntools.intro_to_programming.ex4 import *\n",
    "print('Setup complete.')"
   ]
  },
  {
   "cell_type": "markdown",
   "id": "5fea5410",
   "metadata": {
    "papermill": {
     "duration": 0.006971,
     "end_time": "2023-02-25T19:10:53.680793",
     "exception": false,
     "start_time": "2023-02-25T19:10:53.673822",
     "status": "completed"
    },
    "tags": []
   },
   "source": [
    "# Question 1\n",
    "\n",
    "You work at a college admissions office.  When inspecting a dataset of college applicants, you notice that some students have represented their grades with letters (`\"A\"`, `\"B\"`, `\"C\"`, `\"D\"`, `\"F\"`), whereas others have represented their grades with a number between 0 and 100.\n",
    "\n",
    "You realize that for consistency, all of the grades should be formatted in the same way, and you decide to format them all as letters.  For the conversion, you decide to assign:\n",
    "- `\"A\"` - any grade 90-100, inclusive\n",
    "- `\"B\"` - any grade 80-89, inclusive\n",
    "- `\"C\"` - any grade 70-79, inclusive\n",
    "- `\"D\"` - any grade 60-69, inclusive\n",
    "- `\"F\"` - any grade <60\n",
    "\n",
    "Write a function `get_grade()` that takes as input:\n",
    "- `score` - an integer 0-100 corresponding to a numerical grade\n",
    "\n",
    "It should return a Python string with the letter grade that it corresponds to.  For instance,\n",
    "- A score of 85 corresponds to a B grade.  In other words, `get_grade(85)` should return `\"B\"`.\n",
    "- A score of 49 corresponds to an F grade.  In other words, `get_grade(49)` should return `\"F\"`.\n",
    "\n",
    "Make sure that when supplying the grade that is returned by the function, it is enclosed in quotes.  (For instance, if you want to return `\"A\"`, you should write `return \"A\"` and not `return A`.)"
   ]
  },
  {
   "cell_type": "code",
   "execution_count": 2,
   "id": "3e28b3a4",
   "metadata": {
    "execution": {
     "iopub.execute_input": "2023-02-25T19:10:53.698268Z",
     "iopub.status.busy": "2023-02-25T19:10:53.697542Z",
     "iopub.status.idle": "2023-02-25T19:10:53.710639Z",
     "shell.execute_reply": "2023-02-25T19:10:53.709257Z"
    },
    "papermill": {
     "duration": 0.024947,
     "end_time": "2023-02-25T19:10:53.713196",
     "exception": false,
     "start_time": "2023-02-25T19:10:53.688249",
     "status": "completed"
    },
    "tags": []
   },
   "outputs": [
    {
     "data": {
      "application/javascript": [
       "parent.postMessage({\"jupyterEvent\": \"custom.exercise_interaction\", \"data\": {\"outcomeType\": 1, \"valueTowardsCompletion\": 0.2, \"interactionType\": 1, \"questionType\": 2, \"questionId\": \"1_GetGrade\", \"learnToolsVersion\": \"0.3.4\", \"failureMessage\": \"\", \"exceptionClass\": \"\", \"trace\": \"\"}}, \"*\")"
      ],
      "text/plain": [
       "<IPython.core.display.Javascript object>"
      ]
     },
     "metadata": {},
     "output_type": "display_data"
    },
    {
     "data": {
      "text/markdown": [
       "<span style=\"color:#33cc33\">Correct</span>"
      ],
      "text/plain": [
       "Correct"
      ]
     },
     "metadata": {},
     "output_type": "display_data"
    }
   ],
   "source": [
    "# TODO: Edit the function to return the correct grade for different scores\n",
    "def get_grade(score):\n",
    "    if score >= 90:\n",
    "        grade = \"A\"\n",
    "    elif score >= 80: \n",
    "        grade = \"B\"\n",
    "    elif score >= 70:\n",
    "            grade = \"C\"\n",
    "    elif score >= 60: \n",
    "        grade = \"D\"\n",
    "    else:\n",
    "        grade = \"F\"\n",
    "    return grade\n",
    "    \n",
    "# Check your answer\n",
    "q1.check()"
   ]
  },
  {
   "cell_type": "code",
   "execution_count": 3,
   "id": "89024d50",
   "metadata": {
    "execution": {
     "iopub.execute_input": "2023-02-25T19:10:53.730748Z",
     "iopub.status.busy": "2023-02-25T19:10:53.730051Z",
     "iopub.status.idle": "2023-02-25T19:10:53.735121Z",
     "shell.execute_reply": "2023-02-25T19:10:53.734049Z"
    },
    "papermill": {
     "duration": 0.017046,
     "end_time": "2023-02-25T19:10:53.737810",
     "exception": false,
     "start_time": "2023-02-25T19:10:53.720764",
     "status": "completed"
    },
    "tags": []
   },
   "outputs": [],
   "source": [
    "# Uncomment to see a hint\n",
    "#q1.hint()\n",
    "\n",
    "# Uncomment to see the solution\n",
    "#q1.solution()"
   ]
  },
  {
   "cell_type": "markdown",
   "id": "c0f7ec90",
   "metadata": {
    "papermill": {
     "duration": 0.007288,
     "end_time": "2023-02-25T19:10:53.752668",
     "exception": false,
     "start_time": "2023-02-25T19:10:53.745380",
     "status": "completed"
    },
    "tags": []
   },
   "source": [
    "# Question 2\n",
    "\n",
    "In the exercise for the previous lesson, you wrote a function `cost_of_project()` that estimated the price of rings for an online shop that sells rings with custom engravings.  This function did not use conditional statements.  In this exercise, you will rewrite the function to use conditional statements.  Recall that the online shop has the following price structure:\n",
    "- Gold plated rings have a base cost of \\\\$50, and you charge \\\\$7 per engraved unit.  \n",
    "- Solid gold rings have a base cost of \\\\$100, and you charge \\\\$10 per engraved unit.\n",
    "- Spaces and punctuation are counted as engraved units.\n",
    "\n",
    "Your function `cost_of_project()` takes two arguments:\n",
    "- `engraving` - a Python string with the text of the engraving\n",
    "- `solid_gold` - a Boolean that indicates whether the ring is solid gold\n",
    "\n",
    "It should return the cost of the project.  \n",
    "\n",
    "The function has been partially completed for you, and you need to fill in the blanks to complete the function."
   ]
  },
  {
   "cell_type": "code",
   "execution_count": 4,
   "id": "5004979f",
   "metadata": {
    "execution": {
     "iopub.execute_input": "2023-02-25T19:10:53.770255Z",
     "iopub.status.busy": "2023-02-25T19:10:53.769803Z",
     "iopub.status.idle": "2023-02-25T19:10:53.781479Z",
     "shell.execute_reply": "2023-02-25T19:10:53.780142Z"
    },
    "papermill": {
     "duration": 0.02359,
     "end_time": "2023-02-25T19:10:53.784052",
     "exception": false,
     "start_time": "2023-02-25T19:10:53.760462",
     "status": "completed"
    },
    "tags": []
   },
   "outputs": [
    {
     "data": {
      "application/javascript": [
       "parent.postMessage({\"jupyterEvent\": \"custom.exercise_interaction\", \"data\": {\"outcomeType\": 1, \"valueTowardsCompletion\": 0.2, \"interactionType\": 1, \"questionType\": 2, \"questionId\": \"2_CostProjectPartDeux\", \"learnToolsVersion\": \"0.3.4\", \"failureMessage\": \"\", \"exceptionClass\": \"\", \"trace\": \"\"}}, \"*\")"
      ],
      "text/plain": [
       "<IPython.core.display.Javascript object>"
      ]
     },
     "metadata": {},
     "output_type": "display_data"
    },
    {
     "data": {
      "text/markdown": [
       "<span style=\"color:#33cc33\">Correct</span>"
      ],
      "text/plain": [
       "Correct"
      ]
     },
     "metadata": {},
     "output_type": "display_data"
    }
   ],
   "source": [
    "def cost_of_project(engraving, solid_gold):\n",
    "    if solid_gold == True:\n",
    "        cost = 100+10*(len(engraving))\n",
    "    else:\n",
    "        cost = 50+7*(len(engraving))\n",
    "    return cost\n",
    "\n",
    "# Check your answer\n",
    "q2.check()"
   ]
  },
  {
   "cell_type": "code",
   "execution_count": 5,
   "id": "54cb9f06",
   "metadata": {
    "execution": {
     "iopub.execute_input": "2023-02-25T19:10:53.803553Z",
     "iopub.status.busy": "2023-02-25T19:10:53.802345Z",
     "iopub.status.idle": "2023-02-25T19:10:53.807933Z",
     "shell.execute_reply": "2023-02-25T19:10:53.806578Z"
    },
    "papermill": {
     "duration": 0.017824,
     "end_time": "2023-02-25T19:10:53.810851",
     "exception": false,
     "start_time": "2023-02-25T19:10:53.793027",
     "status": "completed"
    },
    "tags": []
   },
   "outputs": [],
   "source": [
    "# Uncomment to see a hint\n",
    "#q2.hint()\n",
    "\n",
    "# Uncomment to see the solution\n",
    "#q2.solution()"
   ]
  },
  {
   "cell_type": "markdown",
   "id": "fe87a8f0",
   "metadata": {
    "papermill": {
     "duration": 0.007819,
     "end_time": "2023-02-25T19:10:53.826536",
     "exception": false,
     "start_time": "2023-02-25T19:10:53.818717",
     "status": "completed"
    },
    "tags": []
   },
   "source": [
    "# Question 3\n",
    "\n",
    "You are a programmer at a water agency.  Recently, you have been tasked to write a function `get_water_bill()` that takes as input:\n",
    "- `num_gallons` = the number of gallons of water that a customer used that month.  (This will always be an integer with no decimal part.)\n",
    "\n",
    "It should output the water bill.  \n",
    "\n",
    "The water agency uses this pricing structure:\n",
    "<table style=\"width: 100%;\">\n",
    "<tbody>\n",
    "<tr><th><b>Tier</b></th><th><b>Amount in gallons</b></th><th><b>Price per 1000 gallons</b></th></tr>\n",
    "<tr>\n",
    "<td>Tier 1</td>\n",
    "<td>0 - 8,000</td>\n",
    "<td>\\$5</td>\n",
    "</tr>\n",
    "<tr>\n",
    "<td>Tier 2</td>\n",
    "<td>8,001 - 22,000</td>\n",
    "<td>\\$6</td>\n",
    "</tr>\n",
    "<tr>\n",
    "<td>Tier 3</td>\n",
    "<td>22,001 - 30,000</td>\n",
    "<td>\\$7</td>\n",
    "</tr>\n",
    "<tr>\n",
    "<td>Tier 4</td>\n",
    "<td>30,001+</td>\n",
    "<td>\\$10</td>\n",
    "</tr>\n",
    "</tbody>\n",
    "</table>\n",
    "\n",
    "For example: \n",
    "- Someone who uses 10,000 gallons of water in a month is placed in Tier 2, and needs to pay a water bill of \\\\$6 * 10 = \\\\$60.  In other words, `get_water_bill(10000)` should return `60.0`.\n",
    "- Someone who uses 25,000 gallons of water in a month is placed in Tier 3, and needs to pay a water bill of \\\\$7 * 25 = \\\\$175.  In other words, `get_water_bill(25000)` should return `175.0`.\n",
    "\n",
    "**Do not round your answer.**  So, your answer might return fractions of a penny."
   ]
  },
  {
   "cell_type": "code",
   "execution_count": 6,
   "id": "7b08bdf2",
   "metadata": {
    "execution": {
     "iopub.execute_input": "2023-02-25T19:10:53.845306Z",
     "iopub.status.busy": "2023-02-25T19:10:53.844011Z",
     "iopub.status.idle": "2023-02-25T19:10:53.856538Z",
     "shell.execute_reply": "2023-02-25T19:10:53.855063Z"
    },
    "papermill": {
     "duration": 0.025004,
     "end_time": "2023-02-25T19:10:53.859619",
     "exception": false,
     "start_time": "2023-02-25T19:10:53.834615",
     "status": "completed"
    },
    "tags": []
   },
   "outputs": [
    {
     "data": {
      "application/javascript": [
       "parent.postMessage({\"jupyterEvent\": \"custom.exercise_interaction\", \"data\": {\"outcomeType\": 1, \"valueTowardsCompletion\": 0.2, \"interactionType\": 1, \"questionType\": 2, \"questionId\": \"3_GetWaterBill\", \"learnToolsVersion\": \"0.3.4\", \"failureMessage\": \"\", \"exceptionClass\": \"\", \"trace\": \"\"}}, \"*\")"
      ],
      "text/plain": [
       "<IPython.core.display.Javascript object>"
      ]
     },
     "metadata": {},
     "output_type": "display_data"
    },
    {
     "data": {
      "text/markdown": [
       "<span style=\"color:#33cc33\">Correct</span>"
      ],
      "text/plain": [
       "Correct"
      ]
     },
     "metadata": {},
     "output_type": "display_data"
    }
   ],
   "source": [
    "# TODO: Edit the function to return the correct bill for different\n",
    "# values of num_gallons\n",
    "def get_water_bill(num_gallons):\n",
    "    if num_gallons<=8000:\n",
    "        bill=5*num_gallons/1000\n",
    "    elif num_gallons<=22000:\n",
    "        bill=6*num_gallons/1000\n",
    "    elif num_gallons<=30000:\n",
    "        bill=7*num_gallons/1000\n",
    "    else:\n",
    "        bill=10*num_gallons/1000\n",
    "    return bill\n",
    "\n",
    "# Check your answer\n",
    "q3.check()"
   ]
  },
  {
   "cell_type": "code",
   "execution_count": 7,
   "id": "d8fe329a",
   "metadata": {
    "execution": {
     "iopub.execute_input": "2023-02-25T19:10:53.879079Z",
     "iopub.status.busy": "2023-02-25T19:10:53.878202Z",
     "iopub.status.idle": "2023-02-25T19:10:53.883530Z",
     "shell.execute_reply": "2023-02-25T19:10:53.882211Z"
    },
    "papermill": {
     "duration": 0.017837,
     "end_time": "2023-02-25T19:10:53.886164",
     "exception": false,
     "start_time": "2023-02-25T19:10:53.868327",
     "status": "completed"
    },
    "tags": []
   },
   "outputs": [],
   "source": [
    "# Uncomment to see a hint\n",
    "#q3.hint()\n",
    "\n",
    "# Uncomment to see the solution\n",
    "#q3.solution()"
   ]
  },
  {
   "cell_type": "markdown",
   "id": "f0ad1542",
   "metadata": {
    "papermill": {
     "duration": 0.007754,
     "end_time": "2023-02-25T19:10:53.901946",
     "exception": false,
     "start_time": "2023-02-25T19:10:53.894192",
     "status": "completed"
    },
    "tags": []
   },
   "source": [
    "# Question 4\n",
    "\n",
    "You work for a company that provides data services.  For \\\\$100/month, your company provides 15 gigabytes (GB) of data.  Then, any additional data is billed at \\\\$0.10/MB (or \\\\$100/GB, since 1,000 MB are in 1 GB).\n",
    "\n",
    "Use the next code cell to write a function `get_phone_bill()` that takes as input:\n",
    "- `gb` = number of GB that the customer used in a month\n",
    "\n",
    "It should return the customer's total phone bill.\n",
    "\n",
    "For instance:\n",
    "- A customer who uses 10 GB of data in one month is billed only \\\\$100, since the usage stayed under 15 GB.  In other words, `get_phone_bill(10)` should return `100`.\n",
    "- A customer who uses 15.1 GB (or 15 GB + 100 MB) of data in one month has gone over by .1 GB, so they must pay \\\\$100 (cost of plan), plus \\\\$0.10 * 100 = \\\\$10, for a total bill of \\\\$110.  In other words, `get_phone_bill(15.1)` should return `110`.\n",
    "\n",
    "Do not round your answer."
   ]
  },
  {
   "cell_type": "code",
   "execution_count": 8,
   "id": "b07f4d08",
   "metadata": {
    "execution": {
     "iopub.execute_input": "2023-02-25T19:10:53.920479Z",
     "iopub.status.busy": "2023-02-25T19:10:53.920028Z",
     "iopub.status.idle": "2023-02-25T19:10:53.931449Z",
     "shell.execute_reply": "2023-02-25T19:10:53.930024Z"
    },
    "papermill": {
     "duration": 0.023896,
     "end_time": "2023-02-25T19:10:53.934158",
     "exception": false,
     "start_time": "2023-02-25T19:10:53.910262",
     "status": "completed"
    },
    "tags": []
   },
   "outputs": [
    {
     "data": {
      "application/javascript": [
       "parent.postMessage({\"jupyterEvent\": \"custom.exercise_interaction\", \"data\": {\"outcomeType\": 1, \"valueTowardsCompletion\": 0.2, \"interactionType\": 1, \"questionType\": 2, \"questionId\": \"4_GetPhoneBill\", \"learnToolsVersion\": \"0.3.4\", \"failureMessage\": \"\", \"exceptionClass\": \"\", \"trace\": \"\"}}, \"*\")"
      ],
      "text/plain": [
       "<IPython.core.display.Javascript object>"
      ]
     },
     "metadata": {},
     "output_type": "display_data"
    },
    {
     "data": {
      "text/markdown": [
       "<span style=\"color:#33cc33\">Correct</span>"
      ],
      "text/plain": [
       "Correct"
      ]
     },
     "metadata": {},
     "output_type": "display_data"
    }
   ],
   "source": [
    "# TODO: Edit the function to return the correct bill for different\n",
    "# values of GB\n",
    "def get_phone_bill(gb):\n",
    "    if gb <= 15:\n",
    "        bill = 100\n",
    "    else:\n",
    "        bill = 100+((gb-15)*1000)*0.1\n",
    "    return bill\n",
    "\n",
    "# Check your answer\n",
    "q4.check()"
   ]
  },
  {
   "cell_type": "code",
   "execution_count": 9,
   "id": "37603dea",
   "metadata": {
    "execution": {
     "iopub.execute_input": "2023-02-25T19:10:53.952996Z",
     "iopub.status.busy": "2023-02-25T19:10:53.952144Z",
     "iopub.status.idle": "2023-02-25T19:10:53.957528Z",
     "shell.execute_reply": "2023-02-25T19:10:53.956054Z"
    },
    "papermill": {
     "duration": 0.01784,
     "end_time": "2023-02-25T19:10:53.960304",
     "exception": false,
     "start_time": "2023-02-25T19:10:53.942464",
     "status": "completed"
    },
    "tags": []
   },
   "outputs": [],
   "source": [
    "# Uncomment to see a hint\n",
    "#q4.hint()\n",
    "\n",
    "# Uncomment to see the solution\n",
    "#q4.solution()"
   ]
  },
  {
   "cell_type": "markdown",
   "id": "c3494b9f",
   "metadata": {
    "papermill": {
     "duration": 0.007965,
     "end_time": "2023-02-25T19:10:53.976710",
     "exception": false,
     "start_time": "2023-02-25T19:10:53.968745",
     "status": "completed"
    },
    "tags": []
   },
   "source": [
    "# 🌶️ Question 5\n",
    "\n",
    "In Mexico, foods and beverages that are high in saturated fat, trans fat, sugar, sodium, and/or calories appear with warning labels that are designed to help consumers make healthy food choices.\n",
    "\n",
    "For instance, the [box of cookies](https://world.openfoodfacts.org/product/7501000673209/florentinas-gamesa) in the image below appears with two labels (in the upper right corner):\n",
    "- EXCESO CALORÍAS (in English, EXCESS CALORIES)\n",
    "- EXCESO AZÚCARES (in English, EXCESS SUGAR)\n",
    "\n",
    "<center><img src=\"https://i.imgur.com/VXYKHnM.png\" alt=\"drawing\" width=\"500\"/></center>\n",
    "\n",
    "In this question, you'll work with a function `get_labels()` that takes the nutritional details about a food item and prints the needed warning labels.  This function takes several inputs:\n",
    "- `food_type` = one of `\"solid\"` or `\"liquid\"`\n",
    "- `serving_size` = size of one serving (if solid, in grams; if liquid, in milliliters)\n",
    "- `calories_per_serving` = calories in one serving\n",
    "- `saturated_fat_g` = grams of saturated fat in one serving\n",
    "- `trans_fat_g` = grams of trans fat in one serving\n",
    "- `sodium_mg` = mg of sodium in one serving\n",
    "- `sugars_g` = grams of sugar in one serving\n",
    "\n",
    "Note that some of the code here should feel unfamiliar to you, since we have not shared the details of how some of the functions like `excess_sugar()` or `excess_saturated_fat()` work.  But at a high level, these are functions that return a value of `True` if the food is deemed to have an excess of sugar or saturated fat, respectively.  These functions are used within the `get_labels()` function, and whenever there is an excess (of sugar or saturated fat, but also of trans fat, sodium, or calories), it prints the corresponding label."
   ]
  },
  {
   "cell_type": "code",
   "execution_count": 10,
   "id": "b8190d27",
   "metadata": {
    "execution": {
     "iopub.execute_input": "2023-02-25T19:10:53.995826Z",
     "iopub.status.busy": "2023-02-25T19:10:53.994942Z",
     "iopub.status.idle": "2023-02-25T19:10:54.004817Z",
     "shell.execute_reply": "2023-02-25T19:10:54.003520Z"
    },
    "papermill": {
     "duration": 0.022712,
     "end_time": "2023-02-25T19:10:54.007734",
     "exception": false,
     "start_time": "2023-02-25T19:10:53.985022",
     "status": "completed"
    },
    "tags": []
   },
   "outputs": [],
   "source": [
    "# import functions needed to make get_labels work\n",
    "from learntools.intro_to_programming.ex4q5 import excess_sugar, excess_saturated_fat, excess_trans_fat, excess_sodium, excess_calories\n",
    "\n",
    "def get_labels(food_type, serving_size, calories_per_serving, saturated_fat_g, trans_fat_g, sodium_mg, sugars_g):\n",
    "    # Print messages based on findings\n",
    "    if excess_sugar(sugars_g, calories_per_serving) == True:\n",
    "        print(\"EXCESO AZÚCARES / EXCESS SUGAR\")\n",
    "    if excess_saturated_fat(saturated_fat_g, calories_per_serving) == True:\n",
    "        print(\"EXCESO GRASAS SATURADAS / EXCESS SATURATED FAT\")\n",
    "    if excess_trans_fat(trans_fat_g, calories_per_serving) == True:\n",
    "        print(\"EXCESO GRASAS TRANS / EXCESS TRANS FAT\")\n",
    "    if excess_sodium(calories_per_serving, sodium_mg) == True:\n",
    "        print(\"EXCESO SODIO / EXCESS SODIUM\")\n",
    "    if excess_calories(food_type, calories_per_serving, serving_size) == True:\n",
    "        print(\"EXCESO CALORÍAS / EXCESS CALORIES\")"
   ]
  },
  {
   "cell_type": "markdown",
   "id": "5b35052e",
   "metadata": {
    "papermill": {
     "duration": 0.00799,
     "end_time": "2023-02-25T19:10:54.024137",
     "exception": false,
     "start_time": "2023-02-25T19:10:54.016147",
     "status": "completed"
    },
    "tags": []
   },
   "source": [
    "The next code cell demonstrates how to use `get_labels()` to get the warning labels that the food item should contain.  We begin with [bologna](https://world.openfoodfacts.org/product/4099100179378/bologna).  Here is [an image](https://imgur.com/Cfcx72e) with all of the nutritional information.  Note that for this food,\n",
    "- `food_type = \"solid\"` (because bologna is a solid and not a liquid)\n",
    "- `serving_size = 32` (the serving size is 32 grams)\n",
    "- `calories_per_serving = 110` (there are 110 calories per serving)\n",
    "- `saturated_fat_g = 2.5` (there are 2.5 grams of saturated fat per serving)\n",
    "- `trans_fat_g = 0` (there are 0 grams of trans fat per serving)\n",
    "- `sodium_mg = 400` (there are 400 mg of sodium per serving)\n",
    "- `sugars_g = 1` (the nutrition facts say <1g, but we will round it up to 1 gram per serving to be safe)\n",
    "\n",
    "By supplying all of these values to the function, we can print the warning labels."
   ]
  },
  {
   "cell_type": "code",
   "execution_count": 11,
   "id": "d33be847",
   "metadata": {
    "execution": {
     "iopub.execute_input": "2023-02-25T19:10:54.043279Z",
     "iopub.status.busy": "2023-02-25T19:10:54.042437Z",
     "iopub.status.idle": "2023-02-25T19:10:54.049223Z",
     "shell.execute_reply": "2023-02-25T19:10:54.047720Z"
    },
    "papermill": {
     "duration": 0.020109,
     "end_time": "2023-02-25T19:10:54.052845",
     "exception": false,
     "start_time": "2023-02-25T19:10:54.032736",
     "status": "completed"
    },
    "tags": []
   },
   "outputs": [
    {
     "name": "stdout",
     "output_type": "stream",
     "text": [
      "EXCESO GRASAS SATURADAS / EXCESS SATURATED FAT\n",
      "EXCESO SODIO / EXCESS SODIUM\n",
      "EXCESO CALORÍAS / EXCESS CALORIES\n"
     ]
    }
   ],
   "source": [
    "# bologna https://world.openfoodfacts.org/product/4099100179378/bologna\n",
    "get_labels(\"solid\", 32, 110, 2.5, 0, 400, 1)"
   ]
  },
  {
   "cell_type": "markdown",
   "id": "fce82f2c",
   "metadata": {
    "papermill": {
     "duration": 0.008284,
     "end_time": "2023-02-25T19:10:54.070470",
     "exception": false,
     "start_time": "2023-02-25T19:10:54.062186",
     "status": "completed"
    },
    "tags": []
   },
   "source": [
    "This bologna has three labels, printed in the output above.\n",
    "\n",
    "For the rest of this question, you will use the same `get_labels()` function to determine the labels for more foods.  This question is designed to help you get practice with feeling comfortable with code that other people have written, and where you don't have time to review every single line of code before interacting with it.  For instance, when you take the [Intro to Machine Learning course](http://www.kaggle.com/learn/intro-to-machine-learning), you'll work with a Python package called \"scikit-learn\", which is a large collection of code that you'll learn how to run without reviewing all of the code in detail (as it would take too long, and you can trust that it was implemented correctly).\n",
    "\n",
    "In general, as you continue coding in Python, you will often be running code that other people have written.  This is common practice for advanced programmers.\n",
    "\n",
    "In the next code cell, fill in the values for [this cereal](https://world.openfoodfacts.org/product/7501008023624/zucaritas-kellogg-s).  Here is [an image](https://imgur.com/a/MUxzHVU) with all of the nutritional information.\n",
    "\n",
    "**Note**: running the line of code below as-is will return an error.  You have to fill in the nutritional values first."
   ]
  },
  {
   "cell_type": "code",
   "execution_count": 12,
   "id": "2343dbe4",
   "metadata": {
    "execution": {
     "iopub.execute_input": "2023-02-25T19:10:54.089510Z",
     "iopub.status.busy": "2023-02-25T19:10:54.089099Z",
     "iopub.status.idle": "2023-02-25T19:10:54.093889Z",
     "shell.execute_reply": "2023-02-25T19:10:54.092556Z"
    },
    "papermill": {
     "duration": 0.017569,
     "end_time": "2023-02-25T19:10:54.096597",
     "exception": false,
     "start_time": "2023-02-25T19:10:54.079028",
     "status": "completed"
    },
    "tags": []
   },
   "outputs": [],
   "source": [
    "# zucaritas cereal https://world.openfoodfacts.org/product/7501008023624/zucaritas-kellogg-s\n",
    "# TODO: Uncomment the line below, fill in the values, and run the function\n",
    "#get_labels()"
   ]
  },
  {
   "cell_type": "markdown",
   "id": "67ed6685",
   "metadata": {
    "papermill": {
     "duration": 0.008074,
     "end_time": "2023-02-25T19:10:54.113302",
     "exception": false,
     "start_time": "2023-02-25T19:10:54.105228",
     "status": "completed"
    },
    "tags": []
   },
   "source": [
    "Next, try [these mozzarella sticks](https://world-es.openfoodfacts.org/producto/0062325540104/mozzarella-cheese-sticks).  Here is [an image](https://imgur.com/rcdB7VH) with all of the nutritional information."
   ]
  },
  {
   "cell_type": "code",
   "execution_count": 13,
   "id": "67da8dc0",
   "metadata": {
    "execution": {
     "iopub.execute_input": "2023-02-25T19:10:54.132135Z",
     "iopub.status.busy": "2023-02-25T19:10:54.131662Z",
     "iopub.status.idle": "2023-02-25T19:10:54.137058Z",
     "shell.execute_reply": "2023-02-25T19:10:54.135766Z"
    },
    "papermill": {
     "duration": 0.018233,
     "end_time": "2023-02-25T19:10:54.139949",
     "exception": false,
     "start_time": "2023-02-25T19:10:54.121716",
     "status": "completed"
    },
    "tags": []
   },
   "outputs": [],
   "source": [
    "# mozzarella sticks https://world-es.openfoodfacts.org/producto/0062325540104/mozzarella-cheese-sticks\n",
    "# TODO: Uncomment the line below, fill in the values, and run the function\n",
    "#get_labels()"
   ]
  },
  {
   "cell_type": "markdown",
   "id": "14ae30df",
   "metadata": {
    "papermill": {
     "duration": 0.008175,
     "end_time": "2023-02-25T19:10:54.156714",
     "exception": false,
     "start_time": "2023-02-25T19:10:54.148539",
     "status": "completed"
    },
    "tags": []
   },
   "source": [
    "Feel free to skip to the end of the notebook now and run `q5.check()` to complete the exercise.  If you want to try more foods, \n",
    "- try [these cookies](https://world.openfoodfacts.org/product/0069700118545/biscuits-au-sucre-pretraches).  Here is [an image](https://imgur.com/2Bc271o) with all of the nutritional information.\n",
    "- try [this soda](https://world-es.openfoodfacts.org/producto/0078000113464/orange-soda-sunkist).  Here is [an image](https://imgur.com/RsBYa8E) with all of the nutritional information.\n",
    "\n",
    "Use the two code cells below for this."
   ]
  },
  {
   "cell_type": "code",
   "execution_count": 14,
   "id": "f352d829",
   "metadata": {
    "execution": {
     "iopub.execute_input": "2023-02-25T19:10:54.176173Z",
     "iopub.status.busy": "2023-02-25T19:10:54.175733Z",
     "iopub.status.idle": "2023-02-25T19:10:54.180901Z",
     "shell.execute_reply": "2023-02-25T19:10:54.179536Z"
    },
    "papermill": {
     "duration": 0.018066,
     "end_time": "2023-02-25T19:10:54.183634",
     "exception": false,
     "start_time": "2023-02-25T19:10:54.165568",
     "status": "completed"
    },
    "tags": []
   },
   "outputs": [],
   "source": [
    "# pillsbury cookies https://world.openfoodfacts.org/product/0069700118545/biscuits-au-sucre-pretraches\n",
    "# TODO: Uncomment the line below, fill in the values, and run the function\n",
    "#get_labels()"
   ]
  },
  {
   "cell_type": "code",
   "execution_count": 15,
   "id": "29fabc1d",
   "metadata": {
    "execution": {
     "iopub.execute_input": "2023-02-25T19:10:54.203272Z",
     "iopub.status.busy": "2023-02-25T19:10:54.202828Z",
     "iopub.status.idle": "2023-02-25T19:10:54.207913Z",
     "shell.execute_reply": "2023-02-25T19:10:54.206608Z"
    },
    "papermill": {
     "duration": 0.018295,
     "end_time": "2023-02-25T19:10:54.210851",
     "exception": false,
     "start_time": "2023-02-25T19:10:54.192556",
     "status": "completed"
    },
    "tags": []
   },
   "outputs": [],
   "source": [
    "# sunkist orange soda https://world-es.openfoodfacts.org/producto/0078000113464/orange-soda-sunkist\n",
    "# TODO: Uncomment the line below, fill in the values, and run the function\n",
    "#get_labels()"
   ]
  },
  {
   "cell_type": "markdown",
   "id": "dc26ff43",
   "metadata": {
    "papermill": {
     "duration": 0.008393,
     "end_time": "2023-02-25T19:10:54.227960",
     "exception": false,
     "start_time": "2023-02-25T19:10:54.219567",
     "status": "completed"
    },
    "tags": []
   },
   "source": [
    "Once you have finished investigating the food items in this question, run the final code cell to get credit for completing this problem."
   ]
  },
  {
   "cell_type": "code",
   "execution_count": 16,
   "id": "5ef025b2",
   "metadata": {
    "execution": {
     "iopub.execute_input": "2023-02-25T19:10:54.247496Z",
     "iopub.status.busy": "2023-02-25T19:10:54.247085Z",
     "iopub.status.idle": "2023-02-25T19:10:54.256450Z",
     "shell.execute_reply": "2023-02-25T19:10:54.255414Z"
    },
    "papermill": {
     "duration": 0.022322,
     "end_time": "2023-02-25T19:10:54.259055",
     "exception": false,
     "start_time": "2023-02-25T19:10:54.236733",
     "status": "completed"
    },
    "tags": []
   },
   "outputs": [
    {
     "data": {
      "application/javascript": [
       "parent.postMessage({\"jupyterEvent\": \"custom.exercise_interaction\", \"data\": {\"outcomeType\": 1, \"valueTowardsCompletion\": 0.2, \"interactionType\": 1, \"questionType\": 2, \"questionId\": \"5_GetLabels\", \"learnToolsVersion\": \"0.3.4\", \"failureMessage\": \"\", \"exceptionClass\": \"\", \"trace\": \"\"}}, \"*\")"
      ],
      "text/plain": [
       "<IPython.core.display.Javascript object>"
      ]
     },
     "metadata": {},
     "output_type": "display_data"
    },
    {
     "data": {
      "text/markdown": [
       "<span style=\"color:#33cc33\">Once you have determined the labels for all of the food items, you're ready to move on to the next lesson!</span>"
      ],
      "text/plain": [
       "Once you have determined the labels for all of the food items, you're ready to move on to the next lesson!"
      ]
     },
     "metadata": {},
     "output_type": "display_data"
    }
   ],
   "source": [
    "# Get credit for completing the problem\n",
    "q5.check()"
   ]
  },
  {
   "cell_type": "markdown",
   "id": "f2773676",
   "metadata": {
    "papermill": {
     "duration": 0.008462,
     "end_time": "2023-02-25T19:10:54.276213",
     "exception": false,
     "start_time": "2023-02-25T19:10:54.267751",
     "status": "completed"
    },
    "tags": []
   },
   "source": [
    "# Keep going\n",
    "\n",
    "Continue to the next lesson to **[learn about Python lists](https://www.kaggle.com/alexisbcook/intro-to-lists)**."
   ]
  },
  {
   "cell_type": "markdown",
   "id": "e57ede5d",
   "metadata": {
    "papermill": {
     "duration": 0.008417,
     "end_time": "2023-02-25T19:10:54.293192",
     "exception": false,
     "start_time": "2023-02-25T19:10:54.284775",
     "status": "completed"
    },
    "tags": []
   },
   "source": [
    "---\n",
    "\n",
    "\n",
    "\n",
    "\n",
    "*Have questions or comments? Visit the [course discussion forum](https://www.kaggle.com/learn/intro-to-programming/discussion) to chat with other learners.*"
   ]
  }
 ],
 "metadata": {
  "kernelspec": {
   "display_name": "Python 3",
   "language": "python",
   "name": "python3"
  },
  "language_info": {
   "codemirror_mode": {
    "name": "ipython",
    "version": 3
   },
   "file_extension": ".py",
   "mimetype": "text/x-python",
   "name": "python",
   "nbconvert_exporter": "python",
   "pygments_lexer": "ipython3",
   "version": "3.7.12"
  },
  "papermill": {
   "default_parameters": {},
   "duration": 13.10035,
   "end_time": "2023-02-25T19:10:55.024931",
   "environment_variables": {},
   "exception": null,
   "input_path": "__notebook__.ipynb",
   "output_path": "__notebook__.ipynb",
   "parameters": {},
   "start_time": "2023-02-25T19:10:41.924581",
   "version": "2.4.0"
  }
 },
 "nbformat": 4,
 "nbformat_minor": 5
}
