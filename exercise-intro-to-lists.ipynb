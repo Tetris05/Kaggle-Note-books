{
 "cells": [
  {
   "cell_type": "markdown",
   "id": "4eaa6b28",
   "metadata": {
    "papermill": {
     "duration": 0.007626,
     "end_time": "2023-02-25T19:54:26.457264",
     "exception": false,
     "start_time": "2023-02-25T19:54:26.449638",
     "status": "completed"
    },
    "tags": []
   },
   "source": [
    "**This notebook is an exercise in the [Intro to Programming](https://www.kaggle.com/learn/intro-to-programming) course.  You can reference the tutorial at [this link](https://www.kaggle.com/alexisbcook/intro-to-lists).**\n",
    "\n",
    "---\n"
   ]
  },
  {
   "cell_type": "markdown",
   "id": "0793d3e8",
   "metadata": {
    "papermill": {
     "duration": 0.006035,
     "end_time": "2023-02-25T19:54:26.469852",
     "exception": false,
     "start_time": "2023-02-25T19:54:26.463817",
     "status": "completed"
    },
    "tags": []
   },
   "source": [
    "In the tutorial, you learned how to define and modify Python lists.  In this exercise, you will use your new knowledge to solve several problems.\n",
    "\n",
    "# Set up the notebook\n",
    "\n",
    "Run the next code cell without changes to set up the notebook."
   ]
  },
  {
   "cell_type": "code",
   "execution_count": 1,
   "id": "c0f4e6f7",
   "metadata": {
    "execution": {
     "iopub.execute_input": "2023-02-25T19:54:26.484553Z",
     "iopub.status.busy": "2023-02-25T19:54:26.483556Z",
     "iopub.status.idle": "2023-02-25T19:54:26.521996Z",
     "shell.execute_reply": "2023-02-25T19:54:26.520786Z"
    },
    "papermill": {
     "duration": 0.048533,
     "end_time": "2023-02-25T19:54:26.524589",
     "exception": false,
     "start_time": "2023-02-25T19:54:26.476056",
     "status": "completed"
    },
    "tags": []
   },
   "outputs": [
    {
     "name": "stdout",
     "output_type": "stream",
     "text": [
      "Setup complete.\n"
     ]
    }
   ],
   "source": [
    "from learntools.core import binder\n",
    "binder.bind(globals())\n",
    "from learntools.intro_to_programming.ex5 import *\n",
    "print('Setup complete.')"
   ]
  },
  {
   "cell_type": "markdown",
   "id": "4e893e5b",
   "metadata": {
    "papermill": {
     "duration": 0.006083,
     "end_time": "2023-02-25T19:54:26.537241",
     "exception": false,
     "start_time": "2023-02-25T19:54:26.531158",
     "status": "completed"
    },
    "tags": []
   },
   "source": [
    "# Question 1\n",
    "\n",
    "You own a restaurant with five food dishes, organized in the Python list `menu` below.  One day, you decide to:\n",
    "- remove bean soup (`'bean soup'`) from the menu, and\n",
    "- add roasted beet salad (`'roasted beet salad'`) to the menu.\n",
    "\n",
    "Implement this change to the list below.  While completing this task, \n",
    "- do not change the line that creates the `menu` list.  \n",
    "- your answer should use `.remove()` and `.append()`.  "
   ]
  },
  {
   "cell_type": "code",
   "execution_count": 2,
   "id": "6a01c5fe",
   "metadata": {
    "execution": {
     "iopub.execute_input": "2023-02-25T19:54:26.551621Z",
     "iopub.status.busy": "2023-02-25T19:54:26.551195Z",
     "iopub.status.idle": "2023-02-25T19:54:26.561457Z",
     "shell.execute_reply": "2023-02-25T19:54:26.560396Z"
    },
    "papermill": {
     "duration": 0.020099,
     "end_time": "2023-02-25T19:54:26.563606",
     "exception": false,
     "start_time": "2023-02-25T19:54:26.543507",
     "status": "completed"
    },
    "tags": []
   },
   "outputs": [
    {
     "data": {
      "application/javascript": [
       "parent.postMessage({\"jupyterEvent\": \"custom.exercise_interaction\", \"data\": {\"outcomeType\": 1, \"valueTowardsCompletion\": 0.2, \"interactionType\": 1, \"questionType\": 2, \"questionId\": \"1_FoodMenu\", \"learnToolsVersion\": \"0.3.4\", \"failureMessage\": \"\", \"exceptionClass\": \"\", \"trace\": \"\"}}, \"*\")"
      ],
      "text/plain": [
       "<IPython.core.display.Javascript object>"
      ]
     },
     "metadata": {},
     "output_type": "display_data"
    },
    {
     "data": {
      "text/markdown": [
       "<span style=\"color:#33cc33\">Correct</span>"
      ],
      "text/plain": [
       "Correct"
      ]
     },
     "metadata": {},
     "output_type": "display_data"
    }
   ],
   "source": [
    "# Do not change: Initial menu for your restaurant\n",
    "menu = ['stewed meat with onions', 'bean soup', 'risotto with trout and shrimp',\n",
    "       'fish soup with cream and onion', 'gyro']\n",
    "menu.remove('bean soup')\n",
    "menu.append('roasted beet salad')\n",
    "\n",
    "# TODO: remove 'bean soup', and add 'roasted beet salad' to the end of the menu\n",
    "____\n",
    "\n",
    "# Do not change: Check your answer\n",
    "q1.check()"
   ]
  },
  {
   "cell_type": "code",
   "execution_count": 3,
   "id": "039c8a5d",
   "metadata": {
    "execution": {
     "iopub.execute_input": "2023-02-25T19:54:26.578832Z",
     "iopub.status.busy": "2023-02-25T19:54:26.578415Z",
     "iopub.status.idle": "2023-02-25T19:54:26.582867Z",
     "shell.execute_reply": "2023-02-25T19:54:26.581767Z"
    },
    "papermill": {
     "duration": 0.014691,
     "end_time": "2023-02-25T19:54:26.585132",
     "exception": false,
     "start_time": "2023-02-25T19:54:26.570441",
     "status": "completed"
    },
    "tags": []
   },
   "outputs": [],
   "source": [
    "# Uncomment to see a hint\n",
    "#q1.hint()\n",
    "\n",
    "# Uncomment to see the solution\n",
    "#q1.solution()"
   ]
  },
  {
   "cell_type": "markdown",
   "id": "fcf62441",
   "metadata": {
    "papermill": {
     "duration": 0.006356,
     "end_time": "2023-02-25T19:54:26.598264",
     "exception": false,
     "start_time": "2023-02-25T19:54:26.591908",
     "status": "completed"
    },
    "tags": []
   },
   "source": [
    "# Question 2\n",
    "\n",
    "The list `num_customers` contains the number of customers who came into your restaurant every day over the last month (which lasted thirty days).  Fill in values for each of the following:\n",
    "- `avg_first_seven` - average number of customers who visited in the first seven days\n",
    "- `avg_last_seven` - average number of customers who visited in the last seven days\n",
    "- `max_month` - number of customers on the day that got the most customers in the last month\n",
    "- `min_month` - number of customers on the day that got the least customers in the last month\n",
    "\n",
    "Answer this question by writing code.  For instance, if you have to find the minimum value in a list, use `min()` instead of scanning for the smallest value and directly filling in a number."
   ]
  },
  {
   "cell_type": "code",
   "execution_count": 4,
   "id": "e8d45319",
   "metadata": {
    "execution": {
     "iopub.execute_input": "2023-02-25T19:54:26.613878Z",
     "iopub.status.busy": "2023-02-25T19:54:26.612678Z",
     "iopub.status.idle": "2023-02-25T19:54:26.623012Z",
     "shell.execute_reply": "2023-02-25T19:54:26.622174Z"
    },
    "papermill": {
     "duration": 0.020223,
     "end_time": "2023-02-25T19:54:26.625097",
     "exception": false,
     "start_time": "2023-02-25T19:54:26.604874",
     "status": "completed"
    },
    "tags": []
   },
   "outputs": [
    {
     "data": {
      "application/javascript": [
       "parent.postMessage({\"jupyterEvent\": \"custom.exercise_interaction\", \"data\": {\"outcomeType\": 1, \"valueTowardsCompletion\": 0.2, \"interactionType\": 1, \"questionType\": 1, \"questionId\": \"2_NumCustomers\", \"learnToolsVersion\": \"0.3.4\", \"failureMessage\": \"\", \"exceptionClass\": \"\", \"trace\": \"\"}}, \"*\")"
      ],
      "text/plain": [
       "<IPython.core.display.Javascript object>"
      ]
     },
     "metadata": {},
     "output_type": "display_data"
    },
    {
     "data": {
      "text/markdown": [
       "<span style=\"color:#33cc33\">Correct</span>"
      ],
      "text/plain": [
       "Correct"
      ]
     },
     "metadata": {},
     "output_type": "display_data"
    }
   ],
   "source": [
    "# Do not change: Number of customers each day for the last month\n",
    "num_customers = [137, 147, 135, 128, 170, 174, 165, 146, 126, 159,\n",
    "                 141, 148, 132, 147, 168, 153, 170, 161, 148, 152,\n",
    "                 141, 151, 131, 149, 164, 163, 143, 143, 166, 171]\n",
    "\n",
    "# TODO: Fill in values for the variables below\n",
    "avg_first_seven = sum(num_customers[:7])/7\n",
    "avg_last_seven = sum(num_customers[-7:])/7\n",
    "max_month = max(num_customers)\n",
    "min_month = min(num_customers)\n",
    "\n",
    "# Do not change: Check your answer\n",
    "q2.check()"
   ]
  },
  {
   "cell_type": "code",
   "execution_count": 5,
   "id": "1a3e976c",
   "metadata": {
    "execution": {
     "iopub.execute_input": "2023-02-25T19:54:26.640879Z",
     "iopub.status.busy": "2023-02-25T19:54:26.639868Z",
     "iopub.status.idle": "2023-02-25T19:54:26.644222Z",
     "shell.execute_reply": "2023-02-25T19:54:26.643356Z"
    },
    "papermill": {
     "duration": 0.014391,
     "end_time": "2023-02-25T19:54:26.646338",
     "exception": false,
     "start_time": "2023-02-25T19:54:26.631947",
     "status": "completed"
    },
    "tags": []
   },
   "outputs": [],
   "source": [
    "# Uncomment to see a hint\n",
    "#q2.hint()\n",
    "\n",
    "# Uncomment to see the solution\n",
    "#q2.solution()"
   ]
  },
  {
   "cell_type": "markdown",
   "id": "ba3e8788",
   "metadata": {
    "papermill": {
     "duration": 0.006594,
     "end_time": "2023-02-25T19:54:26.659837",
     "exception": false,
     "start_time": "2023-02-25T19:54:26.653243",
     "status": "completed"
    },
    "tags": []
   },
   "source": [
    "# Question 3\n",
    "\n",
    "In the tutorial, we gave an example of a Python string with information that was better as a list."
   ]
  },
  {
   "cell_type": "code",
   "execution_count": 6,
   "id": "221198f3",
   "metadata": {
    "execution": {
     "iopub.execute_input": "2023-02-25T19:54:26.680224Z",
     "iopub.status.busy": "2023-02-25T19:54:26.679264Z",
     "iopub.status.idle": "2023-02-25T19:54:26.684433Z",
     "shell.execute_reply": "2023-02-25T19:54:26.683539Z"
    },
    "papermill": {
     "duration": 0.017291,
     "end_time": "2023-02-25T19:54:26.686519",
     "exception": false,
     "start_time": "2023-02-25T19:54:26.669228",
     "status": "completed"
    },
    "tags": []
   },
   "outputs": [],
   "source": [
    "flowers = \"pink primrose,hard-leaved pocket orchid,canterbury bells,sweet pea,english marigold,tiger lily,moon orchid,bird of paradise,monkshood,globe thistle\""
   ]
  },
  {
   "cell_type": "markdown",
   "id": "e23c1904",
   "metadata": {
    "papermill": {
     "duration": 0.00776,
     "end_time": "2023-02-25T19:54:26.701323",
     "exception": false,
     "start_time": "2023-02-25T19:54:26.693563",
     "status": "completed"
    },
    "tags": []
   },
   "source": [
    "You can actually use Python to quickly turn this string into a list with `.split()`.  In the parentheses, we need to provide the character should be used to mark the end of one list item and the beginning of another, and enclose it in quotation marks.  In this case, that character is a comma."
   ]
  },
  {
   "cell_type": "code",
   "execution_count": 7,
   "id": "0b111d62",
   "metadata": {
    "execution": {
     "iopub.execute_input": "2023-02-25T19:54:26.718016Z",
     "iopub.status.busy": "2023-02-25T19:54:26.717070Z",
     "iopub.status.idle": "2023-02-25T19:54:26.724124Z",
     "shell.execute_reply": "2023-02-25T19:54:26.722449Z"
    },
    "papermill": {
     "duration": 0.018216,
     "end_time": "2023-02-25T19:54:26.726574",
     "exception": false,
     "start_time": "2023-02-25T19:54:26.708358",
     "status": "completed"
    },
    "tags": []
   },
   "outputs": [
    {
     "name": "stdout",
     "output_type": "stream",
     "text": [
      "['pink primrose', 'hard-leaved pocket orchid', 'canterbury bells', 'sweet pea', 'english marigold', 'tiger lily', 'moon orchid', 'bird of paradise', 'monkshood', 'globe thistle']\n"
     ]
    }
   ],
   "source": [
    " print(flowers.split(\",\"))"
   ]
  },
  {
   "cell_type": "markdown",
   "id": "7ceab549",
   "metadata": {
    "papermill": {
     "duration": 0.006807,
     "end_time": "2023-02-25T19:54:26.740366",
     "exception": false,
     "start_time": "2023-02-25T19:54:26.733559",
     "status": "completed"
    },
    "tags": []
   },
   "source": [
    "Now it is your turn to try this out!  Create two Python lists:\n",
    "- `letters` should be a Python list where each entry is an uppercase letter of the English alphabet.  For instance, the first two entries should be `\"A\"` and `\"B\"`, and the final two entries should be `\"Y\"` and `\"Z\"`.  Use the string `alphabet` to create this list.\n",
    "- `address` should be a Python list where each row in `address` is a different item in the list.  Currently, each row in `address` is separated by a comma. "
   ]
  },
  {
   "cell_type": "code",
   "execution_count": 8,
   "id": "f157d801",
   "metadata": {
    "execution": {
     "iopub.execute_input": "2023-02-25T19:54:26.758404Z",
     "iopub.status.busy": "2023-02-25T19:54:26.757621Z",
     "iopub.status.idle": "2023-02-25T19:54:26.767217Z",
     "shell.execute_reply": "2023-02-25T19:54:26.766089Z"
    },
    "papermill": {
     "duration": 0.020311,
     "end_time": "2023-02-25T19:54:26.769460",
     "exception": false,
     "start_time": "2023-02-25T19:54:26.749149",
     "status": "completed"
    },
    "tags": []
   },
   "outputs": [
    {
     "data": {
      "application/javascript": [
       "parent.postMessage({\"jupyterEvent\": \"custom.exercise_interaction\", \"data\": {\"outcomeType\": 1, \"valueTowardsCompletion\": 0.2, \"interactionType\": 1, \"questionType\": 1, \"questionId\": \"3_SplitString\", \"learnToolsVersion\": \"0.3.4\", \"failureMessage\": \"\", \"exceptionClass\": \"\", \"trace\": \"\"}}, \"*\")"
      ],
      "text/plain": [
       "<IPython.core.display.Javascript object>"
      ]
     },
     "metadata": {},
     "output_type": "display_data"
    },
    {
     "data": {
      "text/markdown": [
       "<span style=\"color:#33cc33\">Correct</span>"
      ],
      "text/plain": [
       "Correct"
      ]
     },
     "metadata": {},
     "output_type": "display_data"
    }
   ],
   "source": [
    "# DO not change: Define two Python strings\n",
    "alphabet = \"A.B.C.D.E.F.G.H.I.J.K.L.M.N.O.P.Q.R.S.T.U.V.W.X.Y.Z\"\n",
    "address = \"Mr. H. Potter,The cupboard under the Stairs,4 Privet Drive,Little Whinging,Surrey\"\n",
    "\n",
    "# TODO: Convert strings into Python lists\n",
    "letters = alphabet.split(\".\")\n",
    "formatted_address = address.split(\",\")\n",
    "\n",
    "# Do not change: Check your answer\n",
    "q3.check()"
   ]
  },
  {
   "cell_type": "code",
   "execution_count": 9,
   "id": "f01ba6c6",
   "metadata": {
    "execution": {
     "iopub.execute_input": "2023-02-25T19:54:26.785496Z",
     "iopub.status.busy": "2023-02-25T19:54:26.785086Z",
     "iopub.status.idle": "2023-02-25T19:54:26.794117Z",
     "shell.execute_reply": "2023-02-25T19:54:26.792994Z"
    },
    "papermill": {
     "duration": 0.019579,
     "end_time": "2023-02-25T19:54:26.796243",
     "exception": false,
     "start_time": "2023-02-25T19:54:26.776664",
     "status": "completed"
    },
    "tags": []
   },
   "outputs": [
    {
     "data": {
      "application/javascript": [
       "parent.postMessage({\"jupyterEvent\": \"custom.exercise_interaction\", \"data\": {\"interactionType\": 3, \"questionType\": 1, \"questionId\": \"3_SplitString\", \"learnToolsVersion\": \"0.3.4\", \"valueTowardsCompletion\": 0.0, \"failureMessage\": \"\", \"exceptionClass\": \"\", \"trace\": \"\", \"outcomeType\": 4}}, \"*\")"
      ],
      "text/plain": [
       "<IPython.core.display.Javascript object>"
      ]
     },
     "metadata": {},
     "output_type": "display_data"
    },
    {
     "data": {
      "text/markdown": [
       "<span style=\"color:#33cc99\">Solution:</span> \n",
       "```python\n",
       "letters = alphabet.split(\".\")\n",
       "formatted_address = address.split(\",\")\n",
       "\n",
       "```"
      ],
      "text/plain": [
       "Solution: \n",
       "```python\n",
       "letters = alphabet.split(\".\")\n",
       "formatted_address = address.split(\",\")\n",
       "\n",
       "```"
      ]
     },
     "metadata": {},
     "output_type": "display_data"
    }
   ],
   "source": [
    "# Uncomment to see a hint\n",
    "#q3.hint()\n",
    "\n",
    "# Uncomment to see the solution\n",
    "q3.solution()"
   ]
  },
  {
   "cell_type": "markdown",
   "id": "7fa1e506",
   "metadata": {
    "papermill": {
     "duration": 0.007079,
     "end_time": "2023-02-25T19:54:26.810837",
     "exception": false,
     "start_time": "2023-02-25T19:54:26.803758",
     "status": "completed"
    },
    "tags": []
   },
   "source": [
    "# Question 4\n",
    "\n",
    "In the Python course, you'll learn all about **list comprehensions**, which allow you to create a list based on the values in another list.  In this question, you'll get a brief preview of how they work.\n",
    "\n",
    "Say we're working with the list below."
   ]
  },
  {
   "cell_type": "code",
   "execution_count": 10,
   "id": "5bc781c0",
   "metadata": {
    "execution": {
     "iopub.execute_input": "2023-02-25T19:54:26.827200Z",
     "iopub.status.busy": "2023-02-25T19:54:26.826804Z",
     "iopub.status.idle": "2023-02-25T19:54:26.831676Z",
     "shell.execute_reply": "2023-02-25T19:54:26.830567Z"
    },
    "papermill": {
     "duration": 0.015858,
     "end_time": "2023-02-25T19:54:26.833961",
     "exception": false,
     "start_time": "2023-02-25T19:54:26.818103",
     "status": "completed"
    },
    "tags": []
   },
   "outputs": [],
   "source": [
    "test_ratings = [1, 2, 3, 4, 5]"
   ]
  },
  {
   "cell_type": "markdown",
   "id": "dd01e0f4",
   "metadata": {
    "papermill": {
     "duration": 0.007086,
     "end_time": "2023-02-25T19:54:26.848437",
     "exception": false,
     "start_time": "2023-02-25T19:54:26.841351",
     "status": "completed"
    },
    "tags": []
   },
   "source": [
    "Then we can use this list (`test_ratings`) to create a new list (`test_liked`) where each item has been turned into a boolean, depending on whether or not the item is greater than or equal to four."
   ]
  },
  {
   "cell_type": "code",
   "execution_count": 11,
   "id": "f9a5e346",
   "metadata": {
    "execution": {
     "iopub.execute_input": "2023-02-25T19:54:26.864601Z",
     "iopub.status.busy": "2023-02-25T19:54:26.864173Z",
     "iopub.status.idle": "2023-02-25T19:54:26.869747Z",
     "shell.execute_reply": "2023-02-25T19:54:26.868683Z"
    },
    "papermill": {
     "duration": 0.016546,
     "end_time": "2023-02-25T19:54:26.872169",
     "exception": false,
     "start_time": "2023-02-25T19:54:26.855623",
     "status": "completed"
    },
    "tags": []
   },
   "outputs": [
    {
     "name": "stdout",
     "output_type": "stream",
     "text": [
      "[False, False, False, True, True]\n"
     ]
    }
   ],
   "source": [
    "test_liked = [i>=4 for i in test_ratings]\n",
    "print(test_liked)"
   ]
  },
  {
   "cell_type": "markdown",
   "id": "30b3a3c3",
   "metadata": {
    "papermill": {
     "duration": 0.007114,
     "end_time": "2023-02-25T19:54:26.886737",
     "exception": false,
     "start_time": "2023-02-25T19:54:26.879623",
     "status": "completed"
    },
    "tags": []
   },
   "source": [
    "In this question, you'll use this list comprehension to define a function `percentage_liked()` that takes one argument as input:\n",
    "- `ratings`: list of ratings that people gave to a movie, where each rating is a number between 1-5, inclusive\n",
    "\n",
    "We say someone liked the movie, if they gave a rating of either 4 or 5.  Your function should return the percentage of people who liked the movie.\n",
    "\n",
    "For instance, if we supply a value of `[1, 2, 3, 4, 5, 4, 5, 1]`, then 50% (4/8) of the people liked the movie, and the function should return `0.5`.\n",
    "\n",
    "Part of the function has already been completed for you.  You need only use `list_liked` to calculate `percentage_liked`."
   ]
  },
  {
   "cell_type": "code",
   "execution_count": 12,
   "id": "f6990af0",
   "metadata": {
    "execution": {
     "iopub.execute_input": "2023-02-25T19:54:26.902922Z",
     "iopub.status.busy": "2023-02-25T19:54:26.902503Z",
     "iopub.status.idle": "2023-02-25T19:54:26.912246Z",
     "shell.execute_reply": "2023-02-25T19:54:26.911160Z"
    },
    "papermill": {
     "duration": 0.020374,
     "end_time": "2023-02-25T19:54:26.914434",
     "exception": false,
     "start_time": "2023-02-25T19:54:26.894060",
     "status": "completed"
    },
    "tags": []
   },
   "outputs": [
    {
     "data": {
      "application/javascript": [
       "parent.postMessage({\"jupyterEvent\": \"custom.exercise_interaction\", \"data\": {\"outcomeType\": 1, \"valueTowardsCompletion\": 0.2, \"interactionType\": 1, \"questionType\": 2, \"questionId\": \"4_PercentageLiked\", \"learnToolsVersion\": \"0.3.4\", \"failureMessage\": \"\", \"exceptionClass\": \"\", \"trace\": \"\"}}, \"*\")"
      ],
      "text/plain": [
       "<IPython.core.display.Javascript object>"
      ]
     },
     "metadata": {},
     "output_type": "display_data"
    },
    {
     "data": {
      "text/markdown": [
       "<span style=\"color:#33cc33\">Correct</span>"
      ],
      "text/plain": [
       "Correct"
      ]
     },
     "metadata": {},
     "output_type": "display_data"
    }
   ],
   "source": [
    "\n",
    "def percentage_liked(ratings):\n",
    "    list_liked = [i>=4 for i in ratings]\n",
    "    # TODO: Complete the function\n",
    "    percentage_liked = sum(list_liked)/len(list_liked)\n",
    "    return percentage_liked\n",
    "\n",
    "# Do not change: should return 0.5\n",
    "percentage_liked([1, 2, 3, 4, 5, 4, 5, 1])\n",
    "\n",
    "# Do not change: Check your answer\n",
    "q4.check()"
   ]
  },
  {
   "cell_type": "code",
   "execution_count": 13,
   "id": "e0682573",
   "metadata": {
    "execution": {
     "iopub.execute_input": "2023-02-25T19:54:26.931312Z",
     "iopub.status.busy": "2023-02-25T19:54:26.930946Z",
     "iopub.status.idle": "2023-02-25T19:54:26.935571Z",
     "shell.execute_reply": "2023-02-25T19:54:26.934584Z"
    },
    "papermill": {
     "duration": 0.015657,
     "end_time": "2023-02-25T19:54:26.937849",
     "exception": false,
     "start_time": "2023-02-25T19:54:26.922192",
     "status": "completed"
    },
    "tags": []
   },
   "outputs": [],
   "source": [
    "# Uncomment to see a hint\n",
    "#q4.hint()\n",
    "\n",
    "# Uncomment to see the solution\n",
    "#q4.solution()"
   ]
  },
  {
   "cell_type": "markdown",
   "id": "12e7c05a",
   "metadata": {
    "papermill": {
     "duration": 0.00731,
     "end_time": "2023-02-25T19:54:26.952740",
     "exception": false,
     "start_time": "2023-02-25T19:54:26.945430",
     "status": "completed"
    },
    "tags": []
   },
   "source": [
    "# 🌶️ Question 5\n",
    " \n",
    "Say you're doing analytics for a website.  You need to write a function that returns the percentage growth in the total number of users relative to a specified number of years ago.\n",
    "\n",
    "Your function `percentage_growth()` should take two arguments as input:\n",
    "- `num_users` = Python list with the total number of users each year.  So `num_users[0]` is the total number of users in the first year, `num_users[1]` is the total number of users in the second year, and so on.  The final entry in the list gives the total number of users in the most recently completed year.\n",
    "- `yrs_ago` = number of years to go back in time when calculating the growth percentage\n",
    "\n",
    "For instance, say `num_users = [920344, 1043553, 1204334, 1458996, 1503323, 1593432, 1623463, 1843064, 1930992, 2001078]`.\n",
    "- if `yrs_ago = 1`, we want the function to return a value of about `0.036`. This corresponds to a percentage growth of approximately 3.6%, calculated as (2001078 - 1930992)/1930992.\n",
    "- if `years_ago = 7`, we would want to return approximately `0.66`.  This corresponds to a percentage growth of approximately 66%, calculated as (2001078 - 1204334)/1204334.\n",
    "\n",
    "Your coworker sent you a draft of a function, but it doesn't seem to be doing the correct calculation.  Can you figure out what has gone wrong and make the needed changes?"
   ]
  },
  {
   "cell_type": "code",
   "execution_count": 14,
   "id": "87735ed4",
   "metadata": {
    "execution": {
     "iopub.execute_input": "2023-02-25T19:54:26.970214Z",
     "iopub.status.busy": "2023-02-25T19:54:26.969161Z",
     "iopub.status.idle": "2023-02-25T19:54:26.981953Z",
     "shell.execute_reply": "2023-02-25T19:54:26.980406Z"
    },
    "papermill": {
     "duration": 0.024096,
     "end_time": "2023-02-25T19:54:26.984401",
     "exception": false,
     "start_time": "2023-02-25T19:54:26.960305",
     "status": "completed"
    },
    "tags": []
   },
   "outputs": [
    {
     "name": "stdout",
     "output_type": "stream",
     "text": [
      "0.03629533421163837\n",
      "0.6615639847417742\n"
     ]
    },
    {
     "data": {
      "application/javascript": [
       "parent.postMessage({\"jupyterEvent\": \"custom.exercise_interaction\", \"data\": {\"outcomeType\": 1, \"valueTowardsCompletion\": 0.2, \"interactionType\": 1, \"questionType\": 2, \"questionId\": \"5_WebsiteAnalytics\", \"learnToolsVersion\": \"0.3.4\", \"failureMessage\": \"\", \"exceptionClass\": \"\", \"trace\": \"\"}}, \"*\")"
      ],
      "text/plain": [
       "<IPython.core.display.Javascript object>"
      ]
     },
     "metadata": {},
     "output_type": "display_data"
    },
    {
     "data": {
      "text/markdown": [
       "<span style=\"color:#33cc33\">Correct</span>"
      ],
      "text/plain": [
       "Correct"
      ]
     },
     "metadata": {},
     "output_type": "display_data"
    }
   ],
   "source": [
    "# TODO: Edit the function\n",
    "def percentage_growth(num_users, yrs_ago):\n",
    "    growth = (num_users[len(num_users)-1] - num_users[len(num_users)-yrs_ago-1])/num_users[len(num_users)-yrs_ago-1]\n",
    "    return growth\n",
    "\n",
    "# Do not change: Variable for calculating some test examples\n",
    "num_users_test = [920344, 1043553, 1204334, 1458996, 1503323, 1593432, 1623463, 1843064, 1930992, 2001078]\n",
    "\n",
    "# Do not change: Should return .036\n",
    "print(percentage_growth(num_users_test, 1))\n",
    "\n",
    "# Do not change: Should return 0.66\n",
    "print(percentage_growth(num_users_test, 7))\n",
    "\n",
    "# Do not change: Check your answer\n",
    "q5.check()"
   ]
  },
  {
   "cell_type": "code",
   "execution_count": 15,
   "id": "9c5b0ed4",
   "metadata": {
    "execution": {
     "iopub.execute_input": "2023-02-25T19:54:27.002263Z",
     "iopub.status.busy": "2023-02-25T19:54:27.001913Z",
     "iopub.status.idle": "2023-02-25T19:54:27.010565Z",
     "shell.execute_reply": "2023-02-25T19:54:27.009461Z"
    },
    "papermill": {
     "duration": 0.020417,
     "end_time": "2023-02-25T19:54:27.012872",
     "exception": false,
     "start_time": "2023-02-25T19:54:26.992455",
     "status": "completed"
    },
    "tags": []
   },
   "outputs": [
    {
     "data": {
      "application/javascript": [
       "parent.postMessage({\"jupyterEvent\": \"custom.exercise_interaction\", \"data\": {\"interactionType\": 3, \"questionType\": 2, \"questionId\": \"5_WebsiteAnalytics\", \"learnToolsVersion\": \"0.3.4\", \"valueTowardsCompletion\": 0.0, \"failureMessage\": \"\", \"exceptionClass\": \"\", \"trace\": \"\", \"outcomeType\": 4}}, \"*\")"
      ],
      "text/plain": [
       "<IPython.core.display.Javascript object>"
      ]
     },
     "metadata": {},
     "output_type": "display_data"
    },
    {
     "data": {
      "text/markdown": [
       "<span style=\"color:#33cc99\">Solution:</span> \n",
       "```python\n",
       "def percentage_growth(num_users, yrs_ago):\n",
       "    growth = (num_users[len(num_users)-1] - num_users[len(num_users)-yrs_ago-1])/num_users[len(num_users)-yrs_ago-1]\n",
       "    return growth\n",
       "\n",
       "```"
      ],
      "text/plain": [
       "Solution: \n",
       "```python\n",
       "def percentage_growth(num_users, yrs_ago):\n",
       "    growth = (num_users[len(num_users)-1] - num_users[len(num_users)-yrs_ago-1])/num_users[len(num_users)-yrs_ago-1]\n",
       "    return growth\n",
       "\n",
       "```"
      ]
     },
     "metadata": {},
     "output_type": "display_data"
    }
   ],
   "source": [
    "# Uncomment to see a hint\n",
    "#q5.hint()\n",
    "\n",
    "# Uncomment to see the solution\n",
    "q5.solution()"
   ]
  },
  {
   "cell_type": "markdown",
   "id": "5c488dd2",
   "metadata": {
    "papermill": {
     "duration": 0.008455,
     "end_time": "2023-02-25T19:54:27.031344",
     "exception": false,
     "start_time": "2023-02-25T19:54:27.022889",
     "status": "completed"
    },
    "tags": []
   },
   "source": [
    "# Congratulations!\n",
    "\n",
    "Congratulations for finishing the Intro to Programming course!  You should be proud of your very first steps with learning programming.  As next steps, we recommend taking:\n",
    "- the **[Python course](http://www.kaggle.com/learn/python)**, and \n",
    "- the **[Intro to Machine Learning course](https://www.kaggle.com/learn/intro-to-machine-learning)**."
   ]
  },
  {
   "cell_type": "markdown",
   "id": "b0e9dd84",
   "metadata": {
    "papermill": {
     "duration": 0.007985,
     "end_time": "2023-02-25T19:54:27.047897",
     "exception": false,
     "start_time": "2023-02-25T19:54:27.039912",
     "status": "completed"
    },
    "tags": []
   },
   "source": [
    "---\n",
    "\n",
    "\n",
    "\n",
    "\n",
    "*Have questions or comments? Visit the [course discussion forum](https://www.kaggle.com/learn/intro-to-programming/discussion) to chat with other learners.*"
   ]
  }
 ],
 "metadata": {
  "kernelspec": {
   "display_name": "Python 3",
   "language": "python",
   "name": "python3"
  },
  "language_info": {
   "codemirror_mode": {
    "name": "ipython",
    "version": 3
   },
   "file_extension": ".py",
   "mimetype": "text/x-python",
   "name": "python",
   "nbconvert_exporter": "python",
   "pygments_lexer": "ipython3",
   "version": "3.7.12"
  },
  "papermill": {
   "default_parameters": {},
   "duration": 10.587658,
   "end_time": "2023-02-25T19:54:27.678103",
   "environment_variables": {},
   "exception": null,
   "input_path": "__notebook__.ipynb",
   "output_path": "__notebook__.ipynb",
   "parameters": {},
   "start_time": "2023-02-25T19:54:17.090445",
   "version": "2.4.0"
  }
 },
 "nbformat": 4,
 "nbformat_minor": 5
}
