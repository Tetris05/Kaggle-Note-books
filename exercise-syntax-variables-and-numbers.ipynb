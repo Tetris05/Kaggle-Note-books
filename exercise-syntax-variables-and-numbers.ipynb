{
 "cells": [
  {
   "cell_type": "markdown",
   "id": "d5a0ed8d",
   "metadata": {
    "papermill": {
     "duration": 0.007001,
     "end_time": "2023-02-26T05:50:58.237628",
     "exception": false,
     "start_time": "2023-02-26T05:50:58.230627",
     "status": "completed"
    },
    "tags": []
   },
   "source": [
    "**This notebook is an exercise in the [Python](https://www.kaggle.com/learn/python) course.  You can reference the tutorial at [this link](https://www.kaggle.com/colinmorris/hello-python).**\n",
    "\n",
    "---\n"
   ]
  },
  {
   "cell_type": "markdown",
   "id": "caf3dd29",
   "metadata": {
    "papermill": {
     "duration": 0.006209,
     "end_time": "2023-02-26T05:50:58.250525",
     "exception": false,
     "start_time": "2023-02-26T05:50:58.244316",
     "status": "completed"
    },
    "tags": []
   },
   "source": [
    "Welcome to your first set of Python coding problems.  If this is your first time using Kaggle Notebooks, welcome! \n",
    "\n",
    "Notebooks are composed of blocks (called \"cells\") of text and code. Each of these is editable, though you'll mainly be editing the code cells to answer some questions.\n",
    "\n",
    "To get started, try running the code cell below (by pressing the ► button, or clicking on the cell and pressing ctrl+enter on your keyboard)."
   ]
  },
  {
   "cell_type": "code",
   "execution_count": null,
   "id": "1e4098e5",
   "metadata": {
    "papermill": {
     "duration": 0.006209,
     "end_time": "2023-02-26T05:50:58.262744",
     "exception": false,
     "start_time": "2023-02-26T05:50:58.256535",
     "status": "completed"
    },
    "tags": []
   },
   "outputs": [],
   "source": []
  },
  {
   "cell_type": "code",
   "execution_count": null,
   "id": "6b16d525",
   "metadata": {
    "papermill": {
     "duration": 0.005688,
     "end_time": "2023-02-26T05:50:58.274937",
     "exception": false,
     "start_time": "2023-02-26T05:50:58.269249",
     "status": "completed"
    },
    "tags": []
   },
   "outputs": [],
   "source": []
  },
  {
   "cell_type": "code",
   "execution_count": 1,
   "id": "bca6372c",
   "metadata": {
    "execution": {
     "iopub.execute_input": "2023-02-26T05:50:58.289314Z",
     "iopub.status.busy": "2023-02-26T05:50:58.288832Z",
     "iopub.status.idle": "2023-02-26T05:50:58.304006Z",
     "shell.execute_reply": "2023-02-26T05:50:58.302234Z"
    },
    "papermill": {
     "duration": 0.02624,
     "end_time": "2023-02-26T05:50:58.307268",
     "exception": false,
     "start_time": "2023-02-26T05:50:58.281028",
     "status": "completed"
    },
    "tags": []
   },
   "outputs": [
    {
     "name": "stdout",
     "output_type": "stream",
     "text": [
      "You've successfully run some Python code\n",
      "Congratulations!\n"
     ]
    }
   ],
   "source": [
    "print(\"You've successfully run some Python code\")\n",
    "print(\"Congratulations!\")"
   ]
  },
  {
   "cell_type": "markdown",
   "id": "cf8fde48",
   "metadata": {
    "papermill": {
     "duration": 0.006018,
     "end_time": "2023-02-26T05:50:58.319724",
     "exception": false,
     "start_time": "2023-02-26T05:50:58.313706",
     "status": "completed"
    },
    "tags": []
   },
   "source": [
    "Try adding another line of code in the cell above and re-running it. \n",
    "\n",
    "Now let's get a little fancier:  Add a new code cell by clicking on an existing code cell, hitting the escape key, and then hitting the `a` or `b` key.  The `a` key will add a cell above the current cell, and `b` adds a cell below.\n",
    "\n",
    "Great! Now you know how to use Notebooks.\n",
    "\n",
    "Each hands-on exercise starts by setting up our feedback and code checking mechanism. Run the code cell below to do that. Then you'll be ready to move on to question 0."
   ]
  },
  {
   "cell_type": "code",
   "execution_count": 2,
   "id": "6da06070",
   "metadata": {
    "_kg_hide-input": true,
    "_kg_hide-output": true,
    "execution": {
     "iopub.execute_input": "2023-02-26T05:50:58.334420Z",
     "iopub.status.busy": "2023-02-26T05:50:58.333766Z",
     "iopub.status.idle": "2023-02-26T05:50:58.385319Z",
     "shell.execute_reply": "2023-02-26T05:50:58.383474Z"
    },
    "papermill": {
     "duration": 0.06206,
     "end_time": "2023-02-26T05:50:58.388110",
     "exception": false,
     "start_time": "2023-02-26T05:50:58.326050",
     "status": "completed"
    },
    "tags": []
   },
   "outputs": [
    {
     "name": "stdout",
     "output_type": "stream",
     "text": [
      "Setup complete! You're ready to start question 0.\n"
     ]
    }
   ],
   "source": [
    "from learntools.core import binder; binder.bind(globals())\n",
    "from learntools.python.ex1 import *\n",
    "print(\"Setup complete! You're ready to start question 0.\")"
   ]
  },
  {
   "cell_type": "markdown",
   "id": "396c8de6",
   "metadata": {
    "papermill": {
     "duration": 0.005807,
     "end_time": "2023-02-26T05:50:58.400285",
     "exception": false,
     "start_time": "2023-02-26T05:50:58.394478",
     "status": "completed"
    },
    "tags": []
   },
   "source": [
    "# 0.\n",
    "\n",
    "*This is a silly question intended as an introduction to the format we use for hands-on exercises throughout all Kaggle courses.*\n",
    "\n",
    "**What is your favorite color? **\n",
    "\n",
    "To complete this question, create a variable called `color` in the cell below with an appropriate value. The function call `q0.check()` (which we've already provided in the cell below) will check your answer."
   ]
  },
  {
   "cell_type": "code",
   "execution_count": 3,
   "id": "f80b93c3",
   "metadata": {
    "execution": {
     "iopub.execute_input": "2023-02-26T05:50:58.416445Z",
     "iopub.status.busy": "2023-02-26T05:50:58.415365Z",
     "iopub.status.idle": "2023-02-26T05:50:58.427830Z",
     "shell.execute_reply": "2023-02-26T05:50:58.425774Z"
    },
    "papermill": {
     "duration": 0.023828,
     "end_time": "2023-02-26T05:50:58.430152",
     "exception": false,
     "start_time": "2023-02-26T05:50:58.406324",
     "status": "completed"
    },
    "tags": []
   },
   "outputs": [
    {
     "data": {
      "application/javascript": [
       "parent.postMessage({\"jupyterEvent\": \"custom.exercise_interaction\", \"data\": {\"outcomeType\": 1, \"valueTowardsCompletion\": 0.25, \"interactionType\": 1, \"questionType\": 2, \"questionId\": \"0_ExerciseFormatTutorial\", \"learnToolsVersion\": \"0.3.4\", \"failureMessage\": \"\", \"exceptionClass\": \"\", \"trace\": \"\"}}, \"*\")"
      ],
      "text/plain": [
       "<IPython.core.display.Javascript object>"
      ]
     },
     "metadata": {},
     "output_type": "display_data"
    },
    {
     "data": {
      "text/markdown": [
       "<span style=\"color:#33cc33\">Correct:</span> What?! You got it right without needing a hint or anything? Drats. Well hey, you should still continue to the next step to get some practice asking for a hint and checking solutions. (Even though you obviously don't need any help here.)"
      ],
      "text/plain": [
       "Correct: What?! You got it right without needing a hint or anything? Drats. Well hey, you should still continue to the next step to get some practice asking for a hint and checking solutions. (Even though you obviously don't need any help here.)"
      ]
     },
     "metadata": {},
     "output_type": "display_data"
    }
   ],
   "source": [
    "# create a variable called color with an appropriate value on the line below\n",
    "# (Remember, strings in Python must be enclosed in 'single' or \"double\" quotes)\n",
    "color = \"Blue\"\n",
    "\n",
    "# Check your answer\n",
    "q0.check()"
   ]
  },
  {
   "cell_type": "markdown",
   "id": "5b692f17",
   "metadata": {
    "papermill": {
     "duration": 0.006009,
     "end_time": "2023-02-26T05:50:58.442778",
     "exception": false,
     "start_time": "2023-02-26T05:50:58.436769",
     "status": "completed"
    },
    "tags": []
   },
   "source": [
    "Didn't get the right answer? How do you not even know your own favorite color?!\n",
    "\n",
    "Delete the `#` in the line below to make one of the lines run. You can choose between getting a hint or the full answer by choosing which line to remove the `#` from. \n",
    "\n",
    "Removing the `#` is called uncommenting, because it changes that line from a \"comment\" which Python doesn't run to code, which Python does run."
   ]
  },
  {
   "cell_type": "code",
   "execution_count": 4,
   "id": "d1d7f68d",
   "metadata": {
    "execution": {
     "iopub.execute_input": "2023-02-26T05:50:58.458220Z",
     "iopub.status.busy": "2023-02-26T05:50:58.457794Z",
     "iopub.status.idle": "2023-02-26T05:50:58.462122Z",
     "shell.execute_reply": "2023-02-26T05:50:58.460994Z"
    },
    "papermill": {
     "duration": 0.015337,
     "end_time": "2023-02-26T05:50:58.464315",
     "exception": false,
     "start_time": "2023-02-26T05:50:58.448978",
     "status": "completed"
    },
    "tags": []
   },
   "outputs": [],
   "source": [
    "#q0.hint()\n",
    "#q0.solution()"
   ]
  },
  {
   "cell_type": "markdown",
   "id": "9f9edc76",
   "metadata": {
    "papermill": {
     "duration": 0.005952,
     "end_time": "2023-02-26T05:50:58.476538",
     "exception": false,
     "start_time": "2023-02-26T05:50:58.470586",
     "status": "completed"
    },
    "tags": []
   },
   "source": [
    "The upcoming questions work the same way. The only thing that will change are the question numbers. For the next question, you'll call `q1.check()`, `q1.hint()`, `q1.solution()`, for question 2, you'll call `q2.check()`, and so on."
   ]
  },
  {
   "cell_type": "markdown",
   "id": "a8779b45",
   "metadata": {
    "papermill": {
     "duration": 0.006021,
     "end_time": "2023-02-26T05:50:58.488822",
     "exception": false,
     "start_time": "2023-02-26T05:50:58.482801",
     "status": "completed"
    },
    "tags": []
   },
   "source": [
    "<hr/>\n",
    "\n",
    "# 1.\n",
    "\n",
    "Complete the code below. In case it's helpful, here is the table of available arithmetic operations:\n",
    "\n",
    "\n",
    "\n",
    "| Operator     | Name           | Description                                            |\n",
    "|--------------|----------------|--------------------------------------------------------|\n",
    "| ``a + b``    | Addition       | Sum of ``a`` and ``b``                                 |\n",
    "| ``a - b``    | Subtraction    | Difference of ``a`` and ``b``                          |\n",
    "| ``a * b``    | Multiplication | Product of ``a`` and ``b``                             |\n",
    "| ``a / b``    | True division  | Quotient of ``a`` and ``b``                            |\n",
    "| ``a // b``   | Floor division | Quotient of ``a`` and ``b``, removing fractional parts |\n",
    "| ``a % b``    | Modulus        | Integer remainder after division of ``a`` by ``b``     |\n",
    "| ``a ** b``   | Exponentiation | ``a`` raised to the power of ``b``                     |\n",
    "| ``-a``       | Negation       | The negative of ``a``                                  |\n",
    "\n",
    "<span style=\"display:none\"></span>\n"
   ]
  },
  {
   "cell_type": "code",
   "execution_count": 5,
   "id": "0e1bfe89",
   "metadata": {
    "execution": {
     "iopub.execute_input": "2023-02-26T05:50:58.505418Z",
     "iopub.status.busy": "2023-02-26T05:50:58.504964Z",
     "iopub.status.idle": "2023-02-26T05:50:58.517558Z",
     "shell.execute_reply": "2023-02-26T05:50:58.516004Z"
    },
    "papermill": {
     "duration": 0.024255,
     "end_time": "2023-02-26T05:50:58.520480",
     "exception": false,
     "start_time": "2023-02-26T05:50:58.496225",
     "status": "completed"
    },
    "tags": []
   },
   "outputs": [
    {
     "data": {
      "application/javascript": [
       "parent.postMessage({\"jupyterEvent\": \"custom.exercise_interaction\", \"data\": {\"outcomeType\": 1, \"valueTowardsCompletion\": 0.25, \"interactionType\": 1, \"questionType\": 1, \"questionId\": \"1_CircleArea\", \"learnToolsVersion\": \"0.3.4\", \"failureMessage\": \"\", \"exceptionClass\": \"\", \"trace\": \"\"}}, \"*\")"
      ],
      "text/plain": [
       "<IPython.core.display.Javascript object>"
      ]
     },
     "metadata": {},
     "output_type": "display_data"
    },
    {
     "data": {
      "text/markdown": [
       "<span style=\"color:#33cc33\">Correct</span>"
      ],
      "text/plain": [
       "Correct"
      ]
     },
     "metadata": {},
     "output_type": "display_data"
    }
   ],
   "source": [
    "pi = 3.14159 # approximate\n",
    "diameter = 3\n",
    "\n",
    "# Create a variable called 'radius' equal to half the diameter\n",
    "radius = 0.5*3\n",
    "\n",
    "# Create a variable called 'area', using the formula for the area of a circle: pi times the radius squared\n",
    "area = pi*(1.5**2)\n",
    "\n",
    "# Check your answer\n",
    "q1.check()"
   ]
  },
  {
   "cell_type": "code",
   "execution_count": 6,
   "id": "eff014d0",
   "metadata": {
    "execution": {
     "iopub.execute_input": "2023-02-26T05:50:58.536197Z",
     "iopub.status.busy": "2023-02-26T05:50:58.535714Z",
     "iopub.status.idle": "2023-02-26T05:50:58.541218Z",
     "shell.execute_reply": "2023-02-26T05:50:58.539747Z"
    },
    "papermill": {
     "duration": 0.016328,
     "end_time": "2023-02-26T05:50:58.543864",
     "exception": false,
     "start_time": "2023-02-26T05:50:58.527536",
     "status": "completed"
    },
    "tags": []
   },
   "outputs": [],
   "source": [
    "# Uncomment and run the lines below if you need help.\n",
    "#q1.hint()\n",
    "#q1.solution()"
   ]
  },
  {
   "cell_type": "markdown",
   "id": "4b28d46c",
   "metadata": {
    "papermill": {
     "duration": 0.006453,
     "end_time": "2023-02-26T05:50:58.557389",
     "exception": false,
     "start_time": "2023-02-26T05:50:58.550936",
     "status": "completed"
    },
    "tags": []
   },
   "source": [
    "<hr/>\n",
    "\n",
    "# 2.\n",
    "\n",
    "Add code to the following cell to swap variables `a` and `b` (so that `a` refers to the object previously referred to by `b` and vice versa)."
   ]
  },
  {
   "cell_type": "code",
   "execution_count": 7,
   "id": "c937ba01",
   "metadata": {
    "execution": {
     "iopub.execute_input": "2023-02-26T05:50:58.573323Z",
     "iopub.status.busy": "2023-02-26T05:50:58.572888Z",
     "iopub.status.idle": "2023-02-26T05:50:58.584980Z",
     "shell.execute_reply": "2023-02-26T05:50:58.583245Z"
    },
    "papermill": {
     "duration": 0.023732,
     "end_time": "2023-02-26T05:50:58.587953",
     "exception": false,
     "start_time": "2023-02-26T05:50:58.564221",
     "status": "completed"
    },
    "tags": []
   },
   "outputs": [
    {
     "data": {
      "application/javascript": [
       "parent.postMessage({\"jupyterEvent\": \"custom.exercise_interaction\", \"data\": {\"outcomeType\": 1, \"valueTowardsCompletion\": 0.25, \"interactionType\": 1, \"questionType\": 2, \"questionId\": \"2_VariableSwap\", \"learnToolsVersion\": \"0.3.4\", \"failureMessage\": \"\", \"exceptionClass\": \"\", \"trace\": \"\"}}, \"*\")"
      ],
      "text/plain": [
       "<IPython.core.display.Javascript object>"
      ]
     },
     "metadata": {},
     "output_type": "display_data"
    },
    {
     "data": {
      "text/markdown": [
       "<span style=\"color:#33cc33\">Correct:</span> \n",
       "\n",
       "The most straightforward solution is to use a third variable to temporarily store one of the old values. e.g.:\n",
       "\n",
       "    tmp = a\n",
       "    a = b\n",
       "    b = tmp\n",
       "\n",
       "If you've read lots of Python code, you might have seen the following trick to swap two variables in one line:\n",
       "\n",
       "    a, b = b, a\n",
       "\n",
       "We'll demystify this bit of Python magic later when we talk about *tuples*."
      ],
      "text/plain": [
       "Correct: \n",
       "\n",
       "The most straightforward solution is to use a third variable to temporarily store one of the old values. e.g.:\n",
       "\n",
       "    tmp = a\n",
       "    a = b\n",
       "    b = tmp\n",
       "\n",
       "If you've read lots of Python code, you might have seen the following trick to swap two variables in one line:\n",
       "\n",
       "    a, b = b, a\n",
       "\n",
       "We'll demystify this bit of Python magic later when we talk about *tuples*."
      ]
     },
     "metadata": {},
     "output_type": "display_data"
    }
   ],
   "source": [
    "########### Setup code - don't touch this part ######################\n",
    "# If you're curious, these are examples of lists. We'll talk about \n",
    "# them in depth a few lessons from now. For now, just know that they're\n",
    "# yet another type of Python object, like int or float.\n",
    "a = [1, 2, 3]\n",
    "b = [3, 2, 1]\n",
    "q2.store_original_ids()\n",
    "######################################################################\n",
    "\n",
    "# Your code goes here. Swap the values to which a and b refer.\n",
    "# If you get stuck, you can always uncomment one or both of the lines in\n",
    "# the next cell for a hint, or to peek at the solution.\n",
    "a,b = b,a\n",
    "\n",
    "######################################################################\n",
    "\n",
    "# Check your answer\n",
    "q2.check()"
   ]
  },
  {
   "cell_type": "code",
   "execution_count": 8,
   "id": "7e3bafd9",
   "metadata": {
    "execution": {
     "iopub.execute_input": "2023-02-26T05:50:58.604583Z",
     "iopub.status.busy": "2023-02-26T05:50:58.604145Z",
     "iopub.status.idle": "2023-02-26T05:50:58.609984Z",
     "shell.execute_reply": "2023-02-26T05:50:58.608455Z"
    },
    "papermill": {
     "duration": 0.017498,
     "end_time": "2023-02-26T05:50:58.612859",
     "exception": false,
     "start_time": "2023-02-26T05:50:58.595361",
     "status": "completed"
    },
    "tags": []
   },
   "outputs": [],
   "source": [
    "#q2.hint()"
   ]
  },
  {
   "cell_type": "code",
   "execution_count": 9,
   "id": "1c44ae32",
   "metadata": {
    "execution": {
     "iopub.execute_input": "2023-02-26T05:50:58.629408Z",
     "iopub.status.busy": "2023-02-26T05:50:58.628986Z",
     "iopub.status.idle": "2023-02-26T05:50:58.634174Z",
     "shell.execute_reply": "2023-02-26T05:50:58.632899Z"
    },
    "papermill": {
     "duration": 0.016589,
     "end_time": "2023-02-26T05:50:58.636851",
     "exception": false,
     "start_time": "2023-02-26T05:50:58.620262",
     "status": "completed"
    },
    "tags": []
   },
   "outputs": [],
   "source": [
    "#q2.solution()"
   ]
  },
  {
   "cell_type": "markdown",
   "id": "2d0ae731",
   "metadata": {
    "papermill": {
     "duration": 0.006817,
     "end_time": "2023-02-26T05:50:58.651224",
     "exception": false,
     "start_time": "2023-02-26T05:50:58.644407",
     "status": "completed"
    },
    "tags": []
   },
   "source": [
    "<hr/>\n",
    "\n",
    "# 3a.\n",
    "\n",
    "Add parentheses to the following expression so that it evaluates to 1."
   ]
  },
  {
   "cell_type": "code",
   "execution_count": 10,
   "id": "faefeeea",
   "metadata": {
    "execution": {
     "iopub.execute_input": "2023-02-26T05:50:58.667811Z",
     "iopub.status.busy": "2023-02-26T05:50:58.667366Z",
     "iopub.status.idle": "2023-02-26T05:50:58.675948Z",
     "shell.execute_reply": "2023-02-26T05:50:58.674261Z"
    },
    "papermill": {
     "duration": 0.019843,
     "end_time": "2023-02-26T05:50:58.678338",
     "exception": false,
     "start_time": "2023-02-26T05:50:58.658495",
     "status": "completed"
    },
    "tags": []
   },
   "outputs": [
    {
     "data": {
      "text/plain": [
       "1"
      ]
     },
     "execution_count": 10,
     "metadata": {},
     "output_type": "execute_result"
    }
   ],
   "source": [
    "(5 - 3) // 2"
   ]
  },
  {
   "cell_type": "code",
   "execution_count": 11,
   "id": "8d1d6ab7",
   "metadata": {
    "execution": {
     "iopub.execute_input": "2023-02-26T05:50:58.696446Z",
     "iopub.status.busy": "2023-02-26T05:50:58.696025Z",
     "iopub.status.idle": "2023-02-26T05:50:58.700206Z",
     "shell.execute_reply": "2023-02-26T05:50:58.699129Z"
    },
    "papermill": {
     "duration": 0.016148,
     "end_time": "2023-02-26T05:50:58.702729",
     "exception": false,
     "start_time": "2023-02-26T05:50:58.686581",
     "status": "completed"
    },
    "tags": []
   },
   "outputs": [],
   "source": [
    "#q3.a.hint()"
   ]
  },
  {
   "cell_type": "code",
   "execution_count": 12,
   "id": "59b03273",
   "metadata": {
    "execution": {
     "iopub.execute_input": "2023-02-26T05:50:58.720152Z",
     "iopub.status.busy": "2023-02-26T05:50:58.719187Z",
     "iopub.status.idle": "2023-02-26T05:50:58.728489Z",
     "shell.execute_reply": "2023-02-26T05:50:58.727373Z"
    },
    "papermill": {
     "duration": 0.02101,
     "end_time": "2023-02-26T05:50:58.731246",
     "exception": false,
     "start_time": "2023-02-26T05:50:58.710236",
     "status": "completed"
    },
    "tags": []
   },
   "outputs": [
    {
     "data": {
      "application/javascript": [
       "parent.postMessage({\"jupyterEvent\": \"custom.exercise_interaction\", \"data\": {\"interactionType\": 3, \"questionType\": 4, \"questionId\": \"3.1_ArithmeticParensEasy\", \"learnToolsVersion\": \"0.3.4\", \"valueTowardsCompletion\": 0.0, \"failureMessage\": \"\", \"exceptionClass\": \"\", \"trace\": \"\", \"outcomeType\": 4}}, \"*\")"
      ],
      "text/plain": [
       "<IPython.core.display.Javascript object>"
      ]
     },
     "metadata": {},
     "output_type": "display_data"
    },
    {
     "data": {
      "text/markdown": [
       "<span style=\"color:#33cc99\">Solution:</span> \n",
       "```python\n",
       "(5 - 3) // 2\n",
       "```"
      ],
      "text/plain": [
       "Solution: \n",
       "```python\n",
       "(5 - 3) // 2\n",
       "```"
      ]
     },
     "metadata": {},
     "output_type": "display_data"
    }
   ],
   "source": [
    "# Check your answer (Run this code cell to receive credit!)\n",
    "q3.a.solution()"
   ]
  },
  {
   "cell_type": "markdown",
   "id": "0c3c22bb",
   "metadata": {
    "papermill": {
     "duration": 0.007376,
     "end_time": "2023-02-26T05:50:58.746580",
     "exception": false,
     "start_time": "2023-02-26T05:50:58.739204",
     "status": "completed"
    },
    "tags": []
   },
   "source": [
    "# 3b.  <span title=\"A bit spicy\" style=\"color: darkgreen \">🌶️</span>\n",
    "\n",
    "<small>Questions, like this one, marked a spicy pepper are a bit harder.</small>\n",
    "\n",
    "Add parentheses to the following expression so that it evaluates to 0."
   ]
  },
  {
   "cell_type": "code",
   "execution_count": 13,
   "id": "773a4ce4",
   "metadata": {
    "execution": {
     "iopub.execute_input": "2023-02-26T05:50:58.764209Z",
     "iopub.status.busy": "2023-02-26T05:50:58.763579Z",
     "iopub.status.idle": "2023-02-26T05:50:58.769531Z",
     "shell.execute_reply": "2023-02-26T05:50:58.768191Z"
    },
    "papermill": {
     "duration": 0.017912,
     "end_time": "2023-02-26T05:50:58.772144",
     "exception": false,
     "start_time": "2023-02-26T05:50:58.754232",
     "status": "completed"
    },
    "tags": []
   },
   "outputs": [
    {
     "data": {
      "text/plain": [
       "0"
      ]
     },
     "execution_count": 13,
     "metadata": {},
     "output_type": "execute_result"
    }
   ],
   "source": [
    "(8 - 3)* (2 - (1 + 1))"
   ]
  },
  {
   "cell_type": "code",
   "execution_count": 14,
   "id": "ba658f33",
   "metadata": {
    "execution": {
     "iopub.execute_input": "2023-02-26T05:50:58.790087Z",
     "iopub.status.busy": "2023-02-26T05:50:58.789654Z",
     "iopub.status.idle": "2023-02-26T05:50:58.794570Z",
     "shell.execute_reply": "2023-02-26T05:50:58.792849Z"
    },
    "papermill": {
     "duration": 0.017262,
     "end_time": "2023-02-26T05:50:58.797389",
     "exception": false,
     "start_time": "2023-02-26T05:50:58.780127",
     "status": "completed"
    },
    "tags": []
   },
   "outputs": [],
   "source": [
    "#q3.b.hint()"
   ]
  },
  {
   "cell_type": "code",
   "execution_count": 15,
   "id": "d2a24d1b",
   "metadata": {
    "execution": {
     "iopub.execute_input": "2023-02-26T05:50:58.815369Z",
     "iopub.status.busy": "2023-02-26T05:50:58.814946Z",
     "iopub.status.idle": "2023-02-26T05:50:58.826176Z",
     "shell.execute_reply": "2023-02-26T05:50:58.825103Z"
    },
    "papermill": {
     "duration": 0.023125,
     "end_time": "2023-02-26T05:50:58.828338",
     "exception": false,
     "start_time": "2023-02-26T05:50:58.805213",
     "status": "completed"
    },
    "tags": []
   },
   "outputs": [
    {
     "data": {
      "application/javascript": [
       "parent.postMessage({\"jupyterEvent\": \"custom.exercise_interaction\", \"data\": {\"interactionType\": 3, \"questionType\": 4, \"questionId\": \"3.2_ArithmeticParensHard\", \"learnToolsVersion\": \"0.3.4\", \"valueTowardsCompletion\": 0.0, \"failureMessage\": \"\", \"exceptionClass\": \"\", \"trace\": \"\", \"outcomeType\": 4}}, \"*\")"
      ],
      "text/plain": [
       "<IPython.core.display.Javascript object>"
      ]
     },
     "metadata": {},
     "output_type": "display_data"
    },
    {
     "data": {
      "text/markdown": [
       "<span style=\"color:#33cc99\">Solution:</span> `(8 - 3) * (2 - (1 + 1))` is one solution. There may be others."
      ],
      "text/plain": [
       "Solution: `(8 - 3) * (2 - (1 + 1))` is one solution. There may be others."
      ]
     },
     "metadata": {},
     "output_type": "display_data"
    }
   ],
   "source": [
    "# Check your answer (Run this code cell to receive credit!)\n",
    "q3.b.solution()"
   ]
  },
  {
   "cell_type": "markdown",
   "id": "573e36ef",
   "metadata": {
    "papermill": {
     "duration": 0.007716,
     "end_time": "2023-02-26T05:50:58.845142",
     "exception": false,
     "start_time": "2023-02-26T05:50:58.837426",
     "status": "completed"
    },
    "tags": []
   },
   "source": [
    "<hr/>\n",
    "\n",
    "# 4. \n",
    "Alice, Bob and Carol have agreed to pool their Halloween candy and split it evenly among themselves.\n",
    "For the sake of their friendship, any candies left over will be smashed. For example, if they collectively\n",
    "bring home 91 candies, they'll take 30 each and smash 1.\n",
    "\n",
    "Write an arithmetic expression below to calculate how many candies they must smash for a given haul."
   ]
  },
  {
   "cell_type": "code",
   "execution_count": 16,
   "id": "4182ac57",
   "metadata": {
    "execution": {
     "iopub.execute_input": "2023-02-26T05:50:58.863066Z",
     "iopub.status.busy": "2023-02-26T05:50:58.862574Z",
     "iopub.status.idle": "2023-02-26T05:50:58.876032Z",
     "shell.execute_reply": "2023-02-26T05:50:58.873999Z"
    },
    "papermill": {
     "duration": 0.026213,
     "end_time": "2023-02-26T05:50:58.879298",
     "exception": false,
     "start_time": "2023-02-26T05:50:58.853085",
     "status": "completed"
    },
    "tags": []
   },
   "outputs": [
    {
     "name": "stdout",
     "output_type": "stream",
     "text": [
      "1\n"
     ]
    },
    {
     "data": {
      "application/javascript": [
       "parent.postMessage({\"jupyterEvent\": \"custom.exercise_interaction\", \"data\": {\"outcomeType\": 1, \"valueTowardsCompletion\": 0.25, \"interactionType\": 1, \"questionType\": 1, \"questionId\": \"4_CandySplitting\", \"learnToolsVersion\": \"0.3.4\", \"failureMessage\": \"\", \"exceptionClass\": \"\", \"trace\": \"\"}}, \"*\")"
      ],
      "text/plain": [
       "<IPython.core.display.Javascript object>"
      ]
     },
     "metadata": {},
     "output_type": "display_data"
    },
    {
     "data": {
      "text/markdown": [
       "<span style=\"color:#33cc33\">Correct</span>"
      ],
      "text/plain": [
       "Correct"
      ]
     },
     "metadata": {},
     "output_type": "display_data"
    }
   ],
   "source": [
    "# Variables representing the number of candies collected by alice, bob, and carol\n",
    "alice_candies = 121\n",
    "bob_candies = 77\n",
    "carol_candies = 109\n",
    "to_smash = (alice_candies+bob_candies+carol_candies)%3\n",
    "\n",
    "# Your code goes here! Replace the right-hand side of this assignment with an expression\n",
    "# involving alice_candies, bob_candies, and carol_candies\n",
    "print(to_smash)\n",
    "\n",
    "# Check your answer\n",
    "q4.check()"
   ]
  },
  {
   "cell_type": "code",
   "execution_count": 17,
   "id": "1234f457",
   "metadata": {
    "execution": {
     "iopub.execute_input": "2023-02-26T05:50:58.898103Z",
     "iopub.status.busy": "2023-02-26T05:50:58.897650Z",
     "iopub.status.idle": "2023-02-26T05:50:58.902216Z",
     "shell.execute_reply": "2023-02-26T05:50:58.901071Z"
    },
    "papermill": {
     "duration": 0.016554,
     "end_time": "2023-02-26T05:50:58.904183",
     "exception": false,
     "start_time": "2023-02-26T05:50:58.887629",
     "status": "completed"
    },
    "tags": []
   },
   "outputs": [],
   "source": [
    "#q4.hint()\n",
    "#q4.solution()"
   ]
  },
  {
   "cell_type": "markdown",
   "id": "aaab72a9",
   "metadata": {
    "papermill": {
     "duration": 0.007913,
     "end_time": "2023-02-26T05:50:58.920467",
     "exception": false,
     "start_time": "2023-02-26T05:50:58.912554",
     "status": "completed"
    },
    "tags": []
   },
   "source": [
    "# Keep Going\n",
    "\n",
    "Next up, you'll **[learn to write new functions and understand functions others write](https://www.kaggle.com/colinmorris/functions-and-getting-help)**. This will make you at least 10 times more productive as a Python programmer. "
   ]
  },
  {
   "cell_type": "markdown",
   "id": "db625347",
   "metadata": {
    "papermill": {
     "duration": 0.008111,
     "end_time": "2023-02-26T05:50:58.937086",
     "exception": false,
     "start_time": "2023-02-26T05:50:58.928975",
     "status": "completed"
    },
    "tags": []
   },
   "source": [
    "---\n",
    "\n",
    "\n",
    "\n",
    "\n",
    "*Have questions or comments? Visit the [course discussion forum](https://www.kaggle.com/learn/python/discussion) to chat with other learners.*"
   ]
  }
 ],
 "metadata": {
  "kernelspec": {
   "display_name": "Python 3",
   "language": "python",
   "name": "python3"
  },
  "language_info": {
   "codemirror_mode": {
    "name": "ipython",
    "version": 3
   },
   "file_extension": ".py",
   "mimetype": "text/x-python",
   "name": "python",
   "nbconvert_exporter": "python",
   "pygments_lexer": "ipython3",
   "version": "3.7.12"
  },
  "papermill": {
   "default_parameters": {},
   "duration": 11.98985,
   "end_time": "2023-02-26T05:50:59.669318",
   "environment_variables": {},
   "exception": null,
   "input_path": "__notebook__.ipynb",
   "output_path": "__notebook__.ipynb",
   "parameters": {},
   "start_time": "2023-02-26T05:50:47.679468",
   "version": "2.4.0"
  }
 },
 "nbformat": 4,
 "nbformat_minor": 5
}
